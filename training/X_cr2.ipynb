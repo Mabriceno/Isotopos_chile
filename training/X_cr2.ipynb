{
 "cells": [
  {
   "cell_type": "code",
   "execution_count": 1,
   "id": "259767cc-e6e4-49db-b076-9e2b644a9df3",
   "metadata": {},
   "outputs": [],
   "source": [
    "import pandas as pd\n",
    "import numpy as np\n",
    "import seaborn as sns\n",
    "from netCDF4 import Dataset\n",
    "from shapely.geometry import Point, Polygon\n",
    "import pickle\n",
    "from tqdm import tqdm_notebook as tqdm"
   ]
  },
  {
   "cell_type": "code",
   "execution_count": 2,
   "id": "2a5331e4-439a-4e41-8f4a-079b866d62dc",
   "metadata": {},
   "outputs": [],
   "source": [
    "#Desktop/proyecto296/generando_capas_bioclimaticas/data/out/biocliamtic_CR2_1979_2016/bio1.nc\n",
    "def call_var(name):\n",
    "    dataset = Dataset('C:/Users/bmati/Desktop/proyecto296/generando_capas_bioclimaticas/data/out/biocliamtic_CR2_1979_2016/'+name+'.nc', mode=\"r\")\n",
    "    z = dataset.variables[name][:]\n",
    "    grid_lat = dataset.variables['lat'][:]\n",
    "    grid_lon = dataset.variables['lon'][:]\n",
    "    dataset.close()\n",
    "    return z, grid_lat, grid_lon\n",
    "\n",
    "def select_poligon(df, poligon):\n",
    "    list_index = []\n",
    "    for i in range(0, len(df['Latitude'])):\n",
    "        point = Point((df['Longitude'][i],df['Latitude'][i]))\n",
    "        if poligon.contains(point):\n",
    "            list_index.append(i)\n",
    "    df = df.filter(items = list_index, axis=0)\n",
    "    return df"
   ]
  },
  {
   "cell_type": "code",
   "execution_count": 3,
   "id": "1df3a3ea-991d-41c8-96ad-4b530d1d4ce3",
   "metadata": {},
   "outputs": [],
   "source": [
    "df_poligon = pd.read_csv('data/cuencas_poligonos.csv')"
   ]
  },
  {
   "cell_type": "code",
   "execution_count": 4,
   "id": "b81690e4-c8eb-4e16-a407-f048c92f1375",
   "metadata": {},
   "outputs": [],
   "source": [
    "N_Plant, N_Soil, C_Plant, C_Soil = [],[],[],[]\n",
    "\n",
    "rcp = []\n",
    "\n",
    "name_bio = ['bio1', 'bio2', 'bio3', 'bio4', 'bio5', 'bio6', 'bio7', 'bio8', 'bio9',\n",
    "       'bio10', 'bio11', 'bio12', 'bio13', 'bio14', 'bio15', 'bio16', 'bio17',\n",
    "       'bio18', 'bio19']"
   ]
  },
  {
   "cell_type": "code",
   "execution_count": 5,
   "id": "6d74a39d-cf79-4337-aaad-8f719c7e8cd3",
   "metadata": {},
   "outputs": [
    {
     "name": "stderr",
     "output_type": "stream",
     "text": [
      "<ipython-input-5-34a54e8193dd>:1: TqdmDeprecationWarning: This function will be removed in tqdm==5.0.0\n",
      "Please use `tqdm.notebook.tqdm` instead of `tqdm.tqdm_notebook`\n",
      "  for name in tqdm(name_bio):\n"
     ]
    },
    {
     "data": {
      "application/vnd.jupyter.widget-view+json": {
       "model_id": "1b7483bbbb4742a1acd89873e414d8c6",
       "version_major": 2,
       "version_minor": 0
      },
      "text/plain": [
       "  0%|          | 0/19 [00:00<?, ?it/s]"
      ]
     },
     "metadata": {},
     "output_type": "display_data"
    },
    {
     "name": "stderr",
     "output_type": "stream",
     "text": [
      "<ipython-input-2-f241a6ecb73a>:4: DeprecationWarning: `np.bool` is a deprecated alias for the builtin `bool`. To silence this warning, use `bool` by itself. Doing this will not modify any behavior and is safe. If you specifically wanted the numpy scalar type, use `np.bool_` here.\n",
      "Deprecated in NumPy 1.20; for more details and guidance: https://numpy.org/devdocs/release/1.20.0-notes.html#deprecations\n",
      "  z = dataset.variables[name][:]\n",
      "<ipython-input-2-f241a6ecb73a>:5: DeprecationWarning: `np.bool` is a deprecated alias for the builtin `bool`. To silence this warning, use `bool` by itself. Doing this will not modify any behavior and is safe. If you specifically wanted the numpy scalar type, use `np.bool_` here.\n",
      "Deprecated in NumPy 1.20; for more details and guidance: https://numpy.org/devdocs/release/1.20.0-notes.html#deprecations\n",
      "  grid_lat = dataset.variables['lat'][:]\n",
      "<ipython-input-2-f241a6ecb73a>:6: DeprecationWarning: `np.bool` is a deprecated alias for the builtin `bool`. To silence this warning, use `bool` by itself. Doing this will not modify any behavior and is safe. If you specifically wanted the numpy scalar type, use `np.bool_` here.\n",
      "Deprecated in NumPy 1.20; for more details and guidance: https://numpy.org/devdocs/release/1.20.0-notes.html#deprecations\n",
      "  grid_lon = dataset.variables['lon'][:]\n"
     ]
    }
   ],
   "source": [
    "for name in tqdm(name_bio):\n",
    "    z, grid_lat, grid_lon = call_var(name)\n",
    "    rcp.append(z)"
   ]
  },
  {
   "cell_type": "code",
   "execution_count": 6,
   "id": "7db2a6c6-a424-448c-b448-5c063844fd03",
   "metadata": {},
   "outputs": [
    {
     "data": {
      "text/plain": [
       "masked_array(data=[-72.975, -72.925, -72.875, -72.825, -72.775, -72.725,\n",
       "                   -72.675, -72.625, -72.575, -72.525, -72.475, -72.425,\n",
       "                   -72.375, -72.325, -72.275, -72.225, -72.175, -72.125,\n",
       "                   -72.075, -72.025, -71.975, -71.925, -71.875, -71.825,\n",
       "                   -71.775, -71.725, -71.675, -71.625, -71.575, -71.525,\n",
       "                   -71.475, -71.425, -71.375, -71.325, -71.275, -71.225,\n",
       "                   -71.175, -71.125, -71.075, -71.025, -70.975, -70.925,\n",
       "                   -70.875, -70.825, -70.775, -70.725, -70.675, -70.625,\n",
       "                   -70.575, -70.525, -70.475, -70.425, -70.375, -70.325,\n",
       "                   -70.275, -70.225, -70.175, -70.125, -70.075, -70.025,\n",
       "                   -69.975, -69.925, -69.875, -69.825, -69.775, -69.725,\n",
       "                   -69.675, -69.625, -69.575, -69.525, -69.475, -69.425,\n",
       "                   -69.375, -69.325, -69.275, -69.225, -69.175, -69.125,\n",
       "                   -69.075, -69.025, -68.975, -68.925, -68.875, -68.825,\n",
       "                   -68.775, -68.725, -68.675, -68.625, -68.575, -68.525,\n",
       "                   -68.475, -68.425, -68.375, -68.325, -68.275, -68.225,\n",
       "                   -68.175, -68.125, -68.075, -68.025, -67.975, -67.925,\n",
       "                   -67.875, -67.825, -67.775, -67.725, -67.675, -67.625,\n",
       "                   -67.575, -67.525, -67.475, -67.425, -67.375, -67.325,\n",
       "                   -67.275, -67.225, -67.175, -67.125, -67.075, -67.025,\n",
       "                   -66.975, -66.925, -66.875, -66.825, -66.775, -66.725,\n",
       "                   -66.675, -66.625, -66.575, -66.525, -66.475, -66.425,\n",
       "                   -66.375, -66.325, -66.275, -66.225, -66.175, -66.125,\n",
       "                   -66.075, -66.025],\n",
       "             mask=False,\n",
       "       fill_value=1e+20,\n",
       "            dtype=float32)"
      ]
     },
     "execution_count": 6,
     "metadata": {},
     "output_type": "execute_result"
    }
   ],
   "source": [
    "mask1 = (grid_lon >-73) & (grid_lon <-63)\n",
    "grid_lon[mask1]"
   ]
  },
  {
   "cell_type": "code",
   "execution_count": 13,
   "id": "031c2689-ceb9-4dd5-8aa3-91b8798201a0",
   "metadata": {},
   "outputs": [
    {
     "data": {
      "text/plain": [
       "masked_array(data=[-72.975, -72.925, -72.875, -72.825, -72.775, -72.725,\n",
       "                   -72.675, -72.625, -72.575, -72.525, -72.475, -72.425,\n",
       "                   -72.375, -72.325, -72.275, -72.225, -72.175, -72.125,\n",
       "                   -72.075, -72.025, -71.975, -71.925, -71.875, -71.825,\n",
       "                   -71.775, -71.725, -71.675, -71.625, -71.575, -71.525,\n",
       "                   -71.475, -71.425, -71.375, -71.325, -71.275, -71.225,\n",
       "                   -71.175, -71.125, -71.075, -71.025, -70.975, -70.925,\n",
       "                   -70.875, -70.825, -70.775, -70.725, -70.675, -70.625,\n",
       "                   -70.575, -70.525, -70.475, -70.425, -70.375, -70.325,\n",
       "                   -70.275, -70.225, -70.175, -70.125, -70.075, -70.025,\n",
       "                   -69.975, -69.925, -69.875, -69.825, -69.775, -69.725,\n",
       "                   -69.675, -69.625, -69.575, -69.525, -69.475, -69.425,\n",
       "                   -69.375, -69.325, -69.275, -69.225, -69.175, -69.125,\n",
       "                   -69.075, -69.025, -68.975, -68.925, -68.875, -68.825,\n",
       "                   -68.775, -68.725, -68.675, -68.625, -68.575, -68.525,\n",
       "                   -68.475, -68.425, -68.375, -68.325, -68.275, -68.225,\n",
       "                   -68.175, -68.125, -68.075, -68.025, -67.975, -67.925,\n",
       "                   -67.875, -67.825, -67.775, -67.725, -67.675, -67.625,\n",
       "                   -67.575, -67.525, -67.475, -67.425, -67.375, -67.325,\n",
       "                   -67.275, -67.225, -67.175, -67.125, -67.075, -67.025,\n",
       "                   -66.975, -66.925, -66.875, -66.825, -66.775, -66.725,\n",
       "                   -66.675, -66.625, -66.575, -66.525, -66.475, -66.425,\n",
       "                   -66.375, -66.325, -66.275, -66.225, -66.175, -66.125,\n",
       "                   -66.075, -66.025],\n",
       "             mask=False,\n",
       "       fill_value=1e+20,\n",
       "            dtype=float32)"
      ]
     },
     "execution_count": 13,
     "metadata": {},
     "output_type": "execute_result"
    }
   ],
   "source": [
    "grid_lon[80:]"
   ]
  },
  {
   "cell_type": "code",
   "execution_count": 14,
   "id": "77caa881-ded2-481e-bea5-2113064f035f",
   "metadata": {},
   "outputs": [
    {
     "data": {
      "text/plain": [
       "masked_array(data=[-36.975, -36.925, -36.875, -36.825, -36.775, -36.725,\n",
       "                   -36.675, -36.625, -36.575, -36.525, -36.475, -36.425,\n",
       "                   -36.375, -36.325, -36.275, -36.225, -36.175, -36.125,\n",
       "                   -36.075, -36.025, -35.975, -35.925, -35.875, -35.825,\n",
       "                   -35.775, -35.725, -35.675, -35.625, -35.575, -35.525,\n",
       "                   -35.475, -35.425, -35.375, -35.325, -35.275, -35.225,\n",
       "                   -35.175, -35.125, -35.075, -35.025, -34.975, -34.925,\n",
       "                   -34.875, -34.825, -34.775, -34.725, -34.675, -34.625,\n",
       "                   -34.575, -34.525, -34.475, -34.425, -34.375, -34.325,\n",
       "                   -34.275, -34.225, -34.175, -34.125, -34.075, -34.025,\n",
       "                   -33.975, -33.925, -33.875, -33.825, -33.775, -33.725,\n",
       "                   -33.675, -33.625, -33.575, -33.525, -33.475, -33.425,\n",
       "                   -33.375, -33.325, -33.275, -33.225, -33.175, -33.125,\n",
       "                   -33.075, -33.025, -32.975, -32.925, -32.875, -32.825,\n",
       "                   -32.775, -32.725, -32.675, -32.625, -32.575, -32.525,\n",
       "                   -32.475, -32.425, -32.375, -32.325, -32.275, -32.225,\n",
       "                   -32.175, -32.125, -32.075, -32.025, -31.975, -31.925,\n",
       "                   -31.875, -31.825, -31.775, -31.725, -31.675, -31.625,\n",
       "                   -31.575, -31.525, -31.475, -31.425, -31.375, -31.325,\n",
       "                   -31.275, -31.225, -31.175, -31.125, -31.075, -31.025,\n",
       "                   -30.975, -30.925, -30.875, -30.825, -30.775, -30.725,\n",
       "                   -30.675, -30.625, -30.575, -30.525, -30.475, -30.425,\n",
       "                   -30.375, -30.325, -30.275, -30.225, -30.175, -30.125,\n",
       "                   -30.075, -30.025, -29.975, -29.925, -29.875, -29.825,\n",
       "                   -29.775, -29.725, -29.675, -29.625, -29.575, -29.525,\n",
       "                   -29.475, -29.425, -29.375, -29.325, -29.275, -29.225,\n",
       "                   -29.175, -29.125, -29.075, -29.025, -28.975, -28.925,\n",
       "                   -28.875, -28.825, -28.775, -28.725, -28.675, -28.625,\n",
       "                   -28.575, -28.525, -28.475, -28.425, -28.375, -28.325,\n",
       "                   -28.275, -28.225, -28.175, -28.125, -28.075, -28.025,\n",
       "                   -27.975, -27.925, -27.875, -27.825, -27.775, -27.725,\n",
       "                   -27.675, -27.625, -27.575, -27.525, -27.475, -27.425,\n",
       "                   -27.375, -27.325, -27.275, -27.225, -27.175, -27.125,\n",
       "                   -27.075, -27.025, -26.975, -26.925, -26.875, -26.825,\n",
       "                   -26.775, -26.725, -26.675, -26.625, -26.575, -26.525,\n",
       "                   -26.475, -26.425, -26.375, -26.325, -26.275, -26.225,\n",
       "                   -26.175, -26.125, -26.075, -26.025, -25.975, -25.925,\n",
       "                   -25.875, -25.825, -25.775, -25.725, -25.675, -25.625,\n",
       "                   -25.575, -25.525, -25.475, -25.425, -25.375, -25.325,\n",
       "                   -25.275, -25.225, -25.175, -25.125, -25.075, -25.025,\n",
       "                   -24.975, -24.925, -24.875, -24.825, -24.775, -24.725,\n",
       "                   -24.675, -24.625, -24.575, -24.525, -24.475, -24.425,\n",
       "                   -24.375, -24.325, -24.275, -24.225, -24.175, -24.125,\n",
       "                   -24.075, -24.025, -23.975, -23.925, -23.875, -23.825,\n",
       "                   -23.775, -23.725, -23.675, -23.625, -23.575, -23.525,\n",
       "                   -23.475, -23.425, -23.375, -23.325, -23.275, -23.225,\n",
       "                   -23.175, -23.125, -23.075, -23.025, -22.975, -22.925,\n",
       "                   -22.875, -22.825, -22.775, -22.725, -22.675, -22.625,\n",
       "                   -22.575, -22.525, -22.475, -22.425, -22.375, -22.325,\n",
       "                   -22.275, -22.225, -22.175, -22.125, -22.075, -22.025,\n",
       "                   -21.975, -21.925, -21.875, -21.825, -21.775, -21.725,\n",
       "                   -21.675, -21.625, -21.575, -21.525, -21.475, -21.425,\n",
       "                   -21.375, -21.325, -21.275, -21.225, -21.175, -21.125,\n",
       "                   -21.075, -21.025, -20.975, -20.925, -20.875, -20.825,\n",
       "                   -20.775, -20.725, -20.675, -20.625, -20.575, -20.525,\n",
       "                   -20.475, -20.425, -20.375, -20.325, -20.275, -20.225,\n",
       "                   -20.175, -20.125, -20.075, -20.025, -19.975, -19.925,\n",
       "                   -19.875, -19.825, -19.775, -19.725, -19.675, -19.625,\n",
       "                   -19.575, -19.525, -19.475, -19.425, -19.375, -19.325,\n",
       "                   -19.275, -19.225, -19.175, -19.125, -19.075, -19.025,\n",
       "                   -18.975, -18.925, -18.875, -18.825, -18.775, -18.725,\n",
       "                   -18.675, -18.625, -18.575, -18.525, -18.475, -18.425,\n",
       "                   -18.375, -18.325, -18.275, -18.225, -18.175, -18.125,\n",
       "                   -18.075, -18.025, -17.975, -17.925, -17.875, -17.825,\n",
       "                   -17.775, -17.725, -17.675, -17.625, -17.575, -17.525,\n",
       "                   -17.475, -17.425, -17.375, -17.325, -17.275, -17.225,\n",
       "                   -17.175, -17.125, -17.075, -17.025],\n",
       "             mask=False,\n",
       "       fill_value=1e+20,\n",
       "            dtype=float32)"
      ]
     },
     "execution_count": 14,
     "metadata": {},
     "output_type": "execute_result"
    }
   ],
   "source": [
    "mask2 = (grid_lat >-37) & (grid_lat <-16)\n",
    "grid_lat[mask2]"
   ]
  },
  {
   "cell_type": "code",
   "execution_count": 21,
   "id": "e91bad36-11cd-490d-a55b-ad28b6bc4062",
   "metadata": {},
   "outputs": [
    {
     "data": {
      "text/plain": [
       "masked_array(data=[-36.975, -36.925, -36.875, -36.825, -36.775, -36.725,\n",
       "                   -36.675, -36.625, -36.575, -36.525, -36.475, -36.425,\n",
       "                   -36.375, -36.325, -36.275, -36.225, -36.175, -36.125,\n",
       "                   -36.075, -36.025, -35.975, -35.925, -35.875, -35.825,\n",
       "                   -35.775, -35.725, -35.675, -35.625, -35.575, -35.525,\n",
       "                   -35.475, -35.425, -35.375, -35.325, -35.275, -35.225,\n",
       "                   -35.175, -35.125, -35.075, -35.025, -34.975, -34.925,\n",
       "                   -34.875, -34.825, -34.775, -34.725, -34.675, -34.625,\n",
       "                   -34.575, -34.525, -34.475, -34.425, -34.375, -34.325,\n",
       "                   -34.275, -34.225, -34.175, -34.125, -34.075, -34.025,\n",
       "                   -33.975, -33.925, -33.875, -33.825, -33.775, -33.725,\n",
       "                   -33.675, -33.625, -33.575, -33.525, -33.475, -33.425,\n",
       "                   -33.375, -33.325, -33.275, -33.225, -33.175, -33.125,\n",
       "                   -33.075, -33.025, -32.975, -32.925, -32.875, -32.825,\n",
       "                   -32.775, -32.725, -32.675, -32.625, -32.575, -32.525,\n",
       "                   -32.475, -32.425, -32.375, -32.325, -32.275, -32.225,\n",
       "                   -32.175, -32.125, -32.075, -32.025, -31.975, -31.925,\n",
       "                   -31.875, -31.825, -31.775, -31.725, -31.675, -31.625,\n",
       "                   -31.575, -31.525, -31.475, -31.425, -31.375, -31.325,\n",
       "                   -31.275, -31.225, -31.175, -31.125, -31.075, -31.025,\n",
       "                   -30.975, -30.925, -30.875, -30.825, -30.775, -30.725,\n",
       "                   -30.675, -30.625, -30.575, -30.525, -30.475, -30.425,\n",
       "                   -30.375, -30.325, -30.275, -30.225, -30.175, -30.125,\n",
       "                   -30.075, -30.025, -29.975, -29.925, -29.875, -29.825,\n",
       "                   -29.775, -29.725, -29.675, -29.625, -29.575, -29.525,\n",
       "                   -29.475, -29.425, -29.375, -29.325, -29.275, -29.225,\n",
       "                   -29.175, -29.125, -29.075, -29.025, -28.975, -28.925,\n",
       "                   -28.875, -28.825, -28.775, -28.725, -28.675, -28.625,\n",
       "                   -28.575, -28.525, -28.475, -28.425, -28.375, -28.325,\n",
       "                   -28.275, -28.225, -28.175, -28.125, -28.075, -28.025,\n",
       "                   -27.975, -27.925, -27.875, -27.825, -27.775, -27.725,\n",
       "                   -27.675, -27.625, -27.575, -27.525, -27.475, -27.425,\n",
       "                   -27.375, -27.325, -27.275, -27.225, -27.175, -27.125,\n",
       "                   -27.075, -27.025, -26.975, -26.925, -26.875, -26.825,\n",
       "                   -26.775, -26.725, -26.675, -26.625, -26.575, -26.525,\n",
       "                   -26.475, -26.425, -26.375, -26.325, -26.275, -26.225,\n",
       "                   -26.175, -26.125, -26.075, -26.025, -25.975, -25.925,\n",
       "                   -25.875, -25.825, -25.775, -25.725, -25.675, -25.625,\n",
       "                   -25.575, -25.525, -25.475, -25.425, -25.375, -25.325,\n",
       "                   -25.275, -25.225, -25.175, -25.125, -25.075, -25.025,\n",
       "                   -24.975, -24.925, -24.875, -24.825, -24.775, -24.725,\n",
       "                   -24.675, -24.625, -24.575, -24.525, -24.475, -24.425,\n",
       "                   -24.375, -24.325, -24.275, -24.225, -24.175, -24.125,\n",
       "                   -24.075, -24.025, -23.975, -23.925, -23.875, -23.825,\n",
       "                   -23.775, -23.725, -23.675, -23.625, -23.575, -23.525,\n",
       "                   -23.475, -23.425, -23.375, -23.325, -23.275, -23.225,\n",
       "                   -23.175, -23.125, -23.075, -23.025, -22.975, -22.925,\n",
       "                   -22.875, -22.825, -22.775, -22.725, -22.675, -22.625,\n",
       "                   -22.575, -22.525, -22.475, -22.425, -22.375, -22.325,\n",
       "                   -22.275, -22.225, -22.175, -22.125, -22.075, -22.025,\n",
       "                   -21.975, -21.925, -21.875, -21.825, -21.775, -21.725,\n",
       "                   -21.675, -21.625, -21.575, -21.525, -21.475, -21.425,\n",
       "                   -21.375, -21.325, -21.275, -21.225, -21.175, -21.125,\n",
       "                   -21.075, -21.025, -20.975, -20.925, -20.875, -20.825,\n",
       "                   -20.775, -20.725, -20.675, -20.625, -20.575, -20.525,\n",
       "                   -20.475, -20.425, -20.375, -20.325, -20.275, -20.225,\n",
       "                   -20.175, -20.125, -20.075, -20.025, -19.975, -19.925,\n",
       "                   -19.875, -19.825, -19.775, -19.725, -19.675, -19.625,\n",
       "                   -19.575, -19.525, -19.475, -19.425, -19.375, -19.325,\n",
       "                   -19.275, -19.225, -19.175, -19.125, -19.075, -19.025,\n",
       "                   -18.975, -18.925, -18.875, -18.825, -18.775, -18.725,\n",
       "                   -18.675, -18.625, -18.575, -18.525, -18.475, -18.425,\n",
       "                   -18.375, -18.325, -18.275, -18.225, -18.175, -18.125,\n",
       "                   -18.075, -18.025, -17.975, -17.925, -17.875, -17.825,\n",
       "                   -17.775, -17.725, -17.675, -17.625, -17.575, -17.525,\n",
       "                   -17.475, -17.425, -17.375, -17.325, -17.275, -17.225,\n",
       "                   -17.175, -17.125, -17.075, -17.025],\n",
       "             mask=False,\n",
       "       fill_value=1e+20,\n",
       "            dtype=float32)"
      ]
     },
     "execution_count": 21,
     "metadata": {},
     "output_type": "execute_result"
    }
   ],
   "source": [
    "grid_lat[400:]"
   ]
  },
  {
   "cell_type": "code",
   "execution_count": 22,
   "id": "422fd721-401a-45b3-bfd6-75daac0ebddb",
   "metadata": {},
   "outputs": [
    {
     "data": {
      "text/plain": [
       "(19, 38, 800, 220)"
      ]
     },
     "execution_count": 22,
     "metadata": {},
     "output_type": "execute_result"
    }
   ],
   "source": [
    "np.shape(rcp)"
   ]
  },
  {
   "cell_type": "code",
   "execution_count": 23,
   "id": "3ac5e923-f535-4013-a28d-892f0fc622cd",
   "metadata": {},
   "outputs": [],
   "source": [
    "def filter(lat, lon):\n",
    "    poli = list(eval(df_poligon['Atacama'][0]))\n",
    "    atacama = Polygon(poli)\n",
    "    poli = list(eval(df_poligon['Arica'][0]))\n",
    "    arica = Polygon(poli)\n",
    "    poli = list(eval(df_poligon['La_Serena'][0]))\n",
    "    serena = Polygon(poli)\n",
    "    poli = list(eval(df_poligon['Santiago'][0]))\n",
    "    santiago = Polygon(poli)\n",
    "    poli = list(eval(df_poligon['Maule'][0]))\n",
    "    maule = Polygon(poli)\n",
    "    point = Point((lon,lat))\n",
    "    if arica.contains(point):\n",
    "        regiones = 'arica '#'(1,0,0,0,0,1,0)'\n",
    "    elif atacama.contains(point):\n",
    "        regiones = 'atacama' #(0,1,0,0,0,1,0)\n",
    "    elif serena.contains(point):\n",
    "        regiones = 'serena' #(0,0,1,0,0,0,1)\n",
    "    elif santiago.contains(point):\n",
    "        regiones = 'santiago' #(0,0,0,1,0,0,1)\n",
    "    elif maule.contains(point):\n",
    "        regiones = 'maule' #(0,0,0,0,1,0,1)\n",
    "    else:\n",
    "        regiones = None\n",
    "    return regiones\n",
    "     "
   ]
  },
  {
   "cell_type": "code",
   "execution_count": 24,
   "id": "7d963a52-d855-4237-8028-64c2d1f6d03d",
   "metadata": {},
   "outputs": [],
   "source": [
    "def add_columns(arica, atacama, serena, santiago, maule, norte, sur, regiones):   \n",
    "    \n",
    "    arica.append(regiones[0])\n",
    "    atacama.append(regiones[1])\n",
    "    serena.append(regiones[2])\n",
    "    santiago.append(regiones[3])\n",
    "    maule.append(regiones[4])\n",
    "    norte.append(regiones[5])\n",
    "    sur.append(regiones[6])\n",
    "\n",
    "    return arica, atacama, serena, santiago, maule, norte, sur"
   ]
  },
  {
   "cell_type": "code",
   "execution_count": 25,
   "id": "5d06d8f2-bac1-48e4-8bcf-2005286da141",
   "metadata": {},
   "outputs": [
    {
     "name": "stderr",
     "output_type": "stream",
     "text": [
      "<ipython-input-25-03b17033066a>:7: TqdmDeprecationWarning: This function will be removed in tqdm==5.0.0\n",
      "Please use `tqdm.notebook.tqdm` instead of `tqdm.tqdm_notebook`\n",
      "  for year in tqdm(range(0,38)):\n"
     ]
    },
    {
     "data": {
      "application/vnd.jupyter.widget-view+json": {
       "model_id": "90e0bbf5c40f4204a964a53b3a4b545d",
       "version_major": 2,
       "version_minor": 0
      },
      "text/plain": [
       "  0%|          | 0/38 [00:00<?, ?it/s]"
      ]
     },
     "metadata": {},
     "output_type": "display_data"
    },
    {
     "name": "stderr",
     "output_type": "stream",
     "text": [
      "<ipython-input-25-03b17033066a>:8: TqdmDeprecationWarning: This function will be removed in tqdm==5.0.0\n",
      "Please use `tqdm.notebook.tqdm` instead of `tqdm.tqdm_notebook`\n",
      "  for lat_i in tqdm(range(400,len(lat))):\n"
     ]
    },
    {
     "data": {
      "application/vnd.jupyter.widget-view+json": {
       "model_id": "a1352c053b3d481eb3b2ec16b6075611",
       "version_major": 2,
       "version_minor": 0
      },
      "text/plain": [
       "  0%|          | 0/400 [00:00<?, ?it/s]"
      ]
     },
     "metadata": {},
     "output_type": "display_data"
    },
    {
     "data": {
      "application/vnd.jupyter.widget-view+json": {
       "model_id": "071b0fb382d3474baf16e9f227c15252",
       "version_major": 2,
       "version_minor": 0
      },
      "text/plain": [
       "  0%|          | 0/400 [00:00<?, ?it/s]"
      ]
     },
     "metadata": {},
     "output_type": "display_data"
    },
    {
     "data": {
      "application/vnd.jupyter.widget-view+json": {
       "model_id": "ffb7a14f448247c8a8de0fdf368e729a",
       "version_major": 2,
       "version_minor": 0
      },
      "text/plain": [
       "  0%|          | 0/400 [00:00<?, ?it/s]"
      ]
     },
     "metadata": {},
     "output_type": "display_data"
    },
    {
     "data": {
      "application/vnd.jupyter.widget-view+json": {
       "model_id": "cff2371b2601453f8fde31e307fd546c",
       "version_major": 2,
       "version_minor": 0
      },
      "text/plain": [
       "  0%|          | 0/400 [00:00<?, ?it/s]"
      ]
     },
     "metadata": {},
     "output_type": "display_data"
    },
    {
     "data": {
      "application/vnd.jupyter.widget-view+json": {
       "model_id": "cb793c72572b4b44a208d8316fdee0da",
       "version_major": 2,
       "version_minor": 0
      },
      "text/plain": [
       "  0%|          | 0/400 [00:00<?, ?it/s]"
      ]
     },
     "metadata": {},
     "output_type": "display_data"
    },
    {
     "data": {
      "application/vnd.jupyter.widget-view+json": {
       "model_id": "be2e345c72e84a93a2998018be9c2f87",
       "version_major": 2,
       "version_minor": 0
      },
      "text/plain": [
       "  0%|          | 0/400 [00:00<?, ?it/s]"
      ]
     },
     "metadata": {},
     "output_type": "display_data"
    },
    {
     "data": {
      "application/vnd.jupyter.widget-view+json": {
       "model_id": "69da7db9f0574b62a3d528add0775e4f",
       "version_major": 2,
       "version_minor": 0
      },
      "text/plain": [
       "  0%|          | 0/400 [00:00<?, ?it/s]"
      ]
     },
     "metadata": {},
     "output_type": "display_data"
    },
    {
     "data": {
      "application/vnd.jupyter.widget-view+json": {
       "model_id": "3b6e47625a31462395f725b8f7dccf14",
       "version_major": 2,
       "version_minor": 0
      },
      "text/plain": [
       "  0%|          | 0/400 [00:00<?, ?it/s]"
      ]
     },
     "metadata": {},
     "output_type": "display_data"
    },
    {
     "data": {
      "application/vnd.jupyter.widget-view+json": {
       "model_id": "6ba0054e58524fa3a4b8981ad48486fe",
       "version_major": 2,
       "version_minor": 0
      },
      "text/plain": [
       "  0%|          | 0/400 [00:00<?, ?it/s]"
      ]
     },
     "metadata": {},
     "output_type": "display_data"
    },
    {
     "data": {
      "application/vnd.jupyter.widget-view+json": {
       "model_id": "c6254730dc564574874670eb036cd462",
       "version_major": 2,
       "version_minor": 0
      },
      "text/plain": [
       "  0%|          | 0/400 [00:00<?, ?it/s]"
      ]
     },
     "metadata": {},
     "output_type": "display_data"
    },
    {
     "data": {
      "application/vnd.jupyter.widget-view+json": {
       "model_id": "0c4cc9baba844d4a85c5a7d3c85b9968",
       "version_major": 2,
       "version_minor": 0
      },
      "text/plain": [
       "  0%|          | 0/400 [00:00<?, ?it/s]"
      ]
     },
     "metadata": {},
     "output_type": "display_data"
    },
    {
     "data": {
      "application/vnd.jupyter.widget-view+json": {
       "model_id": "0ab8fc51284f4503baef0713c67848fd",
       "version_major": 2,
       "version_minor": 0
      },
      "text/plain": [
       "  0%|          | 0/400 [00:00<?, ?it/s]"
      ]
     },
     "metadata": {},
     "output_type": "display_data"
    },
    {
     "data": {
      "application/vnd.jupyter.widget-view+json": {
       "model_id": "789062b327544ed88f3922ad46ff7572",
       "version_major": 2,
       "version_minor": 0
      },
      "text/plain": [
       "  0%|          | 0/400 [00:00<?, ?it/s]"
      ]
     },
     "metadata": {},
     "output_type": "display_data"
    },
    {
     "data": {
      "application/vnd.jupyter.widget-view+json": {
       "model_id": "861af396aab440549f9df1327de4648f",
       "version_major": 2,
       "version_minor": 0
      },
      "text/plain": [
       "  0%|          | 0/400 [00:00<?, ?it/s]"
      ]
     },
     "metadata": {},
     "output_type": "display_data"
    },
    {
     "data": {
      "application/vnd.jupyter.widget-view+json": {
       "model_id": "3f2dce135c234fec9a7c9e5d296cba6d",
       "version_major": 2,
       "version_minor": 0
      },
      "text/plain": [
       "  0%|          | 0/400 [00:00<?, ?it/s]"
      ]
     },
     "metadata": {},
     "output_type": "display_data"
    },
    {
     "data": {
      "application/vnd.jupyter.widget-view+json": {
       "model_id": "59d30ac3791c4ebba00c660bc71ba70b",
       "version_major": 2,
       "version_minor": 0
      },
      "text/plain": [
       "  0%|          | 0/400 [00:00<?, ?it/s]"
      ]
     },
     "metadata": {},
     "output_type": "display_data"
    },
    {
     "data": {
      "application/vnd.jupyter.widget-view+json": {
       "model_id": "6131060712b249fca6730db8d1e25a37",
       "version_major": 2,
       "version_minor": 0
      },
      "text/plain": [
       "  0%|          | 0/400 [00:00<?, ?it/s]"
      ]
     },
     "metadata": {},
     "output_type": "display_data"
    },
    {
     "data": {
      "application/vnd.jupyter.widget-view+json": {
       "model_id": "784889b648d94d4bb0ef4785f37c91da",
       "version_major": 2,
       "version_minor": 0
      },
      "text/plain": [
       "  0%|          | 0/400 [00:00<?, ?it/s]"
      ]
     },
     "metadata": {},
     "output_type": "display_data"
    },
    {
     "data": {
      "application/vnd.jupyter.widget-view+json": {
       "model_id": "84f6c7ccf48840db82569aecdc37d1fc",
       "version_major": 2,
       "version_minor": 0
      },
      "text/plain": [
       "  0%|          | 0/400 [00:00<?, ?it/s]"
      ]
     },
     "metadata": {},
     "output_type": "display_data"
    },
    {
     "data": {
      "application/vnd.jupyter.widget-view+json": {
       "model_id": "efef3d23874c4283b203e95a62dafd8f",
       "version_major": 2,
       "version_minor": 0
      },
      "text/plain": [
       "  0%|          | 0/400 [00:00<?, ?it/s]"
      ]
     },
     "metadata": {},
     "output_type": "display_data"
    },
    {
     "data": {
      "application/vnd.jupyter.widget-view+json": {
       "model_id": "9d7ccb76bd0c4c0bafb15018dc7d2e80",
       "version_major": 2,
       "version_minor": 0
      },
      "text/plain": [
       "  0%|          | 0/400 [00:00<?, ?it/s]"
      ]
     },
     "metadata": {},
     "output_type": "display_data"
    },
    {
     "data": {
      "application/vnd.jupyter.widget-view+json": {
       "model_id": "6c4fb25c7d594d82a4564e499e23cfa8",
       "version_major": 2,
       "version_minor": 0
      },
      "text/plain": [
       "  0%|          | 0/400 [00:00<?, ?it/s]"
      ]
     },
     "metadata": {},
     "output_type": "display_data"
    },
    {
     "data": {
      "application/vnd.jupyter.widget-view+json": {
       "model_id": "3f10587d82304730b8e7183d2057315f",
       "version_major": 2,
       "version_minor": 0
      },
      "text/plain": [
       "  0%|          | 0/400 [00:00<?, ?it/s]"
      ]
     },
     "metadata": {},
     "output_type": "display_data"
    },
    {
     "data": {
      "application/vnd.jupyter.widget-view+json": {
       "model_id": "dd6ef32e0627466faecdb3015a7ad66c",
       "version_major": 2,
       "version_minor": 0
      },
      "text/plain": [
       "  0%|          | 0/400 [00:00<?, ?it/s]"
      ]
     },
     "metadata": {},
     "output_type": "display_data"
    },
    {
     "data": {
      "application/vnd.jupyter.widget-view+json": {
       "model_id": "16a6eb5c7ef44a66b8f2f4eadf21a20f",
       "version_major": 2,
       "version_minor": 0
      },
      "text/plain": [
       "  0%|          | 0/400 [00:00<?, ?it/s]"
      ]
     },
     "metadata": {},
     "output_type": "display_data"
    },
    {
     "data": {
      "application/vnd.jupyter.widget-view+json": {
       "model_id": "f348f0008a474731aaa5e92c151e82fa",
       "version_major": 2,
       "version_minor": 0
      },
      "text/plain": [
       "  0%|          | 0/400 [00:00<?, ?it/s]"
      ]
     },
     "metadata": {},
     "output_type": "display_data"
    },
    {
     "data": {
      "application/vnd.jupyter.widget-view+json": {
       "model_id": "28aa30960a7e4883b58ccc38c392b39c",
       "version_major": 2,
       "version_minor": 0
      },
      "text/plain": [
       "  0%|          | 0/400 [00:00<?, ?it/s]"
      ]
     },
     "metadata": {},
     "output_type": "display_data"
    },
    {
     "data": {
      "application/vnd.jupyter.widget-view+json": {
       "model_id": "ad07828910994da29e825f46ba9402ff",
       "version_major": 2,
       "version_minor": 0
      },
      "text/plain": [
       "  0%|          | 0/400 [00:00<?, ?it/s]"
      ]
     },
     "metadata": {},
     "output_type": "display_data"
    },
    {
     "data": {
      "application/vnd.jupyter.widget-view+json": {
       "model_id": "d15fb282e50b464da152b605f5e756bc",
       "version_major": 2,
       "version_minor": 0
      },
      "text/plain": [
       "  0%|          | 0/400 [00:00<?, ?it/s]"
      ]
     },
     "metadata": {},
     "output_type": "display_data"
    },
    {
     "data": {
      "application/vnd.jupyter.widget-view+json": {
       "model_id": "5411077cf59b46e5a8ac5cf2901ab066",
       "version_major": 2,
       "version_minor": 0
      },
      "text/plain": [
       "  0%|          | 0/400 [00:00<?, ?it/s]"
      ]
     },
     "metadata": {},
     "output_type": "display_data"
    },
    {
     "data": {
      "application/vnd.jupyter.widget-view+json": {
       "model_id": "95cca1423da5433dbadb17287fcc6cd6",
       "version_major": 2,
       "version_minor": 0
      },
      "text/plain": [
       "  0%|          | 0/400 [00:00<?, ?it/s]"
      ]
     },
     "metadata": {},
     "output_type": "display_data"
    },
    {
     "data": {
      "application/vnd.jupyter.widget-view+json": {
       "model_id": "ff47602b00d44085abf464be793b9093",
       "version_major": 2,
       "version_minor": 0
      },
      "text/plain": [
       "  0%|          | 0/400 [00:00<?, ?it/s]"
      ]
     },
     "metadata": {},
     "output_type": "display_data"
    },
    {
     "data": {
      "application/vnd.jupyter.widget-view+json": {
       "model_id": "338e8ebc8b1c409780da31a47f55d458",
       "version_major": 2,
       "version_minor": 0
      },
      "text/plain": [
       "  0%|          | 0/400 [00:00<?, ?it/s]"
      ]
     },
     "metadata": {},
     "output_type": "display_data"
    },
    {
     "data": {
      "application/vnd.jupyter.widget-view+json": {
       "model_id": "5f9e16673d9b4b1880dac4d2f3502adb",
       "version_major": 2,
       "version_minor": 0
      },
      "text/plain": [
       "  0%|          | 0/400 [00:00<?, ?it/s]"
      ]
     },
     "metadata": {},
     "output_type": "display_data"
    },
    {
     "data": {
      "application/vnd.jupyter.widget-view+json": {
       "model_id": "ecc746bc59ee4639840c0dfa23dbdefa",
       "version_major": 2,
       "version_minor": 0
      },
      "text/plain": [
       "  0%|          | 0/400 [00:00<?, ?it/s]"
      ]
     },
     "metadata": {},
     "output_type": "display_data"
    },
    {
     "data": {
      "application/vnd.jupyter.widget-view+json": {
       "model_id": "db174e9625534bafabe016c6970199d5",
       "version_major": 2,
       "version_minor": 0
      },
      "text/plain": [
       "  0%|          | 0/400 [00:00<?, ?it/s]"
      ]
     },
     "metadata": {},
     "output_type": "display_data"
    },
    {
     "data": {
      "application/vnd.jupyter.widget-view+json": {
       "model_id": "43aa8636d1bb42ab90910249d477e8c7",
       "version_major": 2,
       "version_minor": 0
      },
      "text/plain": [
       "  0%|          | 0/400 [00:00<?, ?it/s]"
      ]
     },
     "metadata": {},
     "output_type": "display_data"
    },
    {
     "data": {
      "application/vnd.jupyter.widget-view+json": {
       "model_id": "cf6982ebb793452f8a79465cc368d8dd",
       "version_major": 2,
       "version_minor": 0
      },
      "text/plain": [
       "  0%|          | 0/400 [00:00<?, ?it/s]"
      ]
     },
     "metadata": {},
     "output_type": "display_data"
    }
   ],
   "source": [
    "year_list, lat_list, lon_list, region = [],[],[], []\n",
    "list_bio = []\n",
    "\n",
    "lat = grid_lat\n",
    "lon = grid_lon\n",
    "\n",
    "for year in tqdm(range(0,38)):\n",
    "    for lat_i in tqdm(range(400,len(lat))):\n",
    "        for lon_i in range(80,len(lon)):\n",
    "            regiones = filter(lat[lat_i], lon[lon_i])\n",
    "            \n",
    "            if regiones != None:\n",
    "                bio = []\n",
    "                for bio_i in range(0,19):\n",
    "                    bio.append(rcp[bio_i][year][lat_i][lon_i])\n",
    "\n",
    "                region.append(regiones)\n",
    "                year_list.append(2007 + year)\n",
    "                lon_list.append(lon[lon_i])\n",
    "                lat_list.append(lat[lat_i])\n",
    "                \n",
    "                list_bio.append(bio) "
   ]
  },
  {
   "cell_type": "code",
   "execution_count": 26,
   "id": "68ecd2a5-891b-42f2-8e65-c3acce181bda",
   "metadata": {},
   "outputs": [],
   "source": [
    "def add_df(df, year_list, lat_list, lon_list, region):\n",
    "    df['year'] = year_list\n",
    "    df['lat'] = lat_list\n",
    "    df['lon'] = lon_list\n",
    "    df['region'] = region\n",
    "    #df['arica'] = arica\n",
    "    #df['atacama'] = atacama\n",
    "    #df['serena'] = serena\n",
    "    #df['santiago'] = santiago\n",
    "    #df['maule'] = arica\n",
    "    #df['norte'] = norte\n",
    "    #df['sur'] = sur\n",
    "    return df"
   ]
  },
  {
   "cell_type": "code",
   "execution_count": 27,
   "id": "5e231e42-83ef-4f08-82fd-ccba1f17911f",
   "metadata": {},
   "outputs": [],
   "source": [
    "list_bio = np.transpose(np.array(list_bio))"
   ]
  },
  {
   "cell_type": "code",
   "execution_count": 28,
   "id": "8be13524-14a4-4351-ba02-d5272907b8b2",
   "metadata": {},
   "outputs": [],
   "source": [
    "df = pd.DataFrame()\n",
    "\n",
    "for i in range(0, len(name_bio)):\n",
    "    df[name_bio[i]] = list_bio[i]\n",
    "\n",
    "    \n",
    "df = add_df(df, year_list, lat_list, lon_list, region)"
   ]
  },
  {
   "cell_type": "code",
   "execution_count": 29,
   "id": "e8af3d05-b938-4568-8c57-9b51dd8f8346",
   "metadata": {},
   "outputs": [
    {
     "data": {
      "text/html": [
       "<div>\n",
       "<style scoped>\n",
       "    .dataframe tbody tr th:only-of-type {\n",
       "        vertical-align: middle;\n",
       "    }\n",
       "\n",
       "    .dataframe tbody tr th {\n",
       "        vertical-align: top;\n",
       "    }\n",
       "\n",
       "    .dataframe thead th {\n",
       "        text-align: right;\n",
       "    }\n",
       "</style>\n",
       "<table border=\"1\" class=\"dataframe\">\n",
       "  <thead>\n",
       "    <tr style=\"text-align: right;\">\n",
       "      <th></th>\n",
       "      <th>bio1</th>\n",
       "      <th>bio2</th>\n",
       "      <th>bio3</th>\n",
       "      <th>bio4</th>\n",
       "      <th>bio5</th>\n",
       "      <th>bio6</th>\n",
       "      <th>bio7</th>\n",
       "      <th>bio8</th>\n",
       "      <th>bio9</th>\n",
       "      <th>bio10</th>\n",
       "      <th>...</th>\n",
       "      <th>bio14</th>\n",
       "      <th>bio15</th>\n",
       "      <th>bio16</th>\n",
       "      <th>bio17</th>\n",
       "      <th>bio18</th>\n",
       "      <th>bio19</th>\n",
       "      <th>year</th>\n",
       "      <th>lat</th>\n",
       "      <th>lon</th>\n",
       "      <th>region</th>\n",
       "    </tr>\n",
       "  </thead>\n",
       "  <tbody>\n",
       "    <tr>\n",
       "      <th>0</th>\n",
       "      <td>9.575816</td>\n",
       "      <td>11.021486</td>\n",
       "      <td>47.175885</td>\n",
       "      <td>412.287173</td>\n",
       "      <td>22.217043</td>\n",
       "      <td>-1.145500</td>\n",
       "      <td>23.362543</td>\n",
       "      <td>5.268573</td>\n",
       "      <td>14.680799</td>\n",
       "      <td>14.894796</td>\n",
       "      <td>...</td>\n",
       "      <td>24.020000</td>\n",
       "      <td>93.834573</td>\n",
       "      <td>1623.639984</td>\n",
       "      <td>99.830000</td>\n",
       "      <td>238.679995</td>\n",
       "      <td>1468.169983</td>\n",
       "      <td>2007</td>\n",
       "      <td>-36.525002</td>\n",
       "      <td>-71.324997</td>\n",
       "      <td>maule</td>\n",
       "    </tr>\n",
       "    <tr>\n",
       "      <th>1</th>\n",
       "      <td>10.954794</td>\n",
       "      <td>11.447829</td>\n",
       "      <td>45.850797</td>\n",
       "      <td>435.275588</td>\n",
       "      <td>24.792957</td>\n",
       "      <td>-0.174611</td>\n",
       "      <td>24.967568</td>\n",
       "      <td>6.577527</td>\n",
       "      <td>16.321189</td>\n",
       "      <td>16.711368</td>\n",
       "      <td>...</td>\n",
       "      <td>15.430000</td>\n",
       "      <td>97.701491</td>\n",
       "      <td>1461.130005</td>\n",
       "      <td>81.940002</td>\n",
       "      <td>208.739998</td>\n",
       "      <td>1323.459999</td>\n",
       "      <td>2007</td>\n",
       "      <td>-36.474998</td>\n",
       "      <td>-71.425003</td>\n",
       "      <td>maule</td>\n",
       "    </tr>\n",
       "    <tr>\n",
       "      <th>2</th>\n",
       "      <td>8.954479</td>\n",
       "      <td>10.411931</td>\n",
       "      <td>46.246086</td>\n",
       "      <td>388.802038</td>\n",
       "      <td>20.976021</td>\n",
       "      <td>-1.538167</td>\n",
       "      <td>22.514187</td>\n",
       "      <td>4.935559</td>\n",
       "      <td>13.789515</td>\n",
       "      <td>13.961361</td>\n",
       "      <td>...</td>\n",
       "      <td>18.440001</td>\n",
       "      <td>93.636105</td>\n",
       "      <td>1593.359955</td>\n",
       "      <td>95.219999</td>\n",
       "      <td>250.279999</td>\n",
       "      <td>1424.039948</td>\n",
       "      <td>2007</td>\n",
       "      <td>-36.474998</td>\n",
       "      <td>-71.375000</td>\n",
       "      <td>maule</td>\n",
       "    </tr>\n",
       "    <tr>\n",
       "      <th>3</th>\n",
       "      <td>8.664561</td>\n",
       "      <td>10.440020</td>\n",
       "      <td>46.775321</td>\n",
       "      <td>391.218799</td>\n",
       "      <td>20.558172</td>\n",
       "      <td>-1.761333</td>\n",
       "      <td>22.319506</td>\n",
       "      <td>4.535946</td>\n",
       "      <td>13.523908</td>\n",
       "      <td>13.632026</td>\n",
       "      <td>...</td>\n",
       "      <td>16.389999</td>\n",
       "      <td>99.083671</td>\n",
       "      <td>1579.000031</td>\n",
       "      <td>79.820000</td>\n",
       "      <td>213.590004</td>\n",
       "      <td>1423.610016</td>\n",
       "      <td>2007</td>\n",
       "      <td>-36.474998</td>\n",
       "      <td>-71.324997</td>\n",
       "      <td>maule</td>\n",
       "    </tr>\n",
       "    <tr>\n",
       "      <th>4</th>\n",
       "      <td>8.375342</td>\n",
       "      <td>10.291969</td>\n",
       "      <td>45.833880</td>\n",
       "      <td>400.020932</td>\n",
       "      <td>20.368494</td>\n",
       "      <td>-2.086444</td>\n",
       "      <td>22.454938</td>\n",
       "      <td>4.078753</td>\n",
       "      <td>13.370639</td>\n",
       "      <td>13.418667</td>\n",
       "      <td>...</td>\n",
       "      <td>18.250000</td>\n",
       "      <td>98.704995</td>\n",
       "      <td>1773.809998</td>\n",
       "      <td>86.429998</td>\n",
       "      <td>239.400000</td>\n",
       "      <td>1590.940018</td>\n",
       "      <td>2007</td>\n",
       "      <td>-36.474998</td>\n",
       "      <td>-71.275002</td>\n",
       "      <td>maule</td>\n",
       "    </tr>\n",
       "    <tr>\n",
       "      <th>...</th>\n",
       "      <td>...</td>\n",
       "      <td>...</td>\n",
       "      <td>...</td>\n",
       "      <td>...</td>\n",
       "      <td>...</td>\n",
       "      <td>...</td>\n",
       "      <td>...</td>\n",
       "      <td>...</td>\n",
       "      <td>...</td>\n",
       "      <td>...</td>\n",
       "      <td>...</td>\n",
       "      <td>...</td>\n",
       "      <td>...</td>\n",
       "      <td>...</td>\n",
       "      <td>...</td>\n",
       "      <td>...</td>\n",
       "      <td>...</td>\n",
       "      <td>...</td>\n",
       "      <td>...</td>\n",
       "      <td>...</td>\n",
       "      <td>...</td>\n",
       "    </tr>\n",
       "    <tr>\n",
       "      <th>326225</th>\n",
       "      <td>5.597195</td>\n",
       "      <td>19.865078</td>\n",
       "      <td>74.465201</td>\n",
       "      <td>262.819980</td>\n",
       "      <td>19.121828</td>\n",
       "      <td>-7.555167</td>\n",
       "      <td>26.676995</td>\n",
       "      <td>8.569974</td>\n",
       "      <td>5.111732</td>\n",
       "      <td>9.188881</td>\n",
       "      <td>...</td>\n",
       "      <td>0.000000</td>\n",
       "      <td>165.097227</td>\n",
       "      <td>198.069992</td>\n",
       "      <td>5.750000</td>\n",
       "      <td>167.949993</td>\n",
       "      <td>13.820000</td>\n",
       "      <td>2044</td>\n",
       "      <td>-17.625000</td>\n",
       "      <td>-69.474998</td>\n",
       "      <td>arica</td>\n",
       "    </tr>\n",
       "    <tr>\n",
       "      <th>326226</th>\n",
       "      <td>5.384214</td>\n",
       "      <td>19.667782</td>\n",
       "      <td>73.024090</td>\n",
       "      <td>279.071370</td>\n",
       "      <td>19.176451</td>\n",
       "      <td>-7.756828</td>\n",
       "      <td>26.933279</td>\n",
       "      <td>8.521595</td>\n",
       "      <td>4.843249</td>\n",
       "      <td>9.212814</td>\n",
       "      <td>...</td>\n",
       "      <td>0.000000</td>\n",
       "      <td>170.754376</td>\n",
       "      <td>183.980001</td>\n",
       "      <td>5.080000</td>\n",
       "      <td>156.940001</td>\n",
       "      <td>13.230000</td>\n",
       "      <td>2044</td>\n",
       "      <td>-17.625000</td>\n",
       "      <td>-69.425003</td>\n",
       "      <td>arica</td>\n",
       "    </tr>\n",
       "    <tr>\n",
       "      <th>326227</th>\n",
       "      <td>5.429915</td>\n",
       "      <td>19.357091</td>\n",
       "      <td>75.625847</td>\n",
       "      <td>223.818898</td>\n",
       "      <td>18.448978</td>\n",
       "      <td>-7.146889</td>\n",
       "      <td>25.595867</td>\n",
       "      <td>7.804326</td>\n",
       "      <td>5.111577</td>\n",
       "      <td>8.410760</td>\n",
       "      <td>...</td>\n",
       "      <td>0.000000</td>\n",
       "      <td>166.266744</td>\n",
       "      <td>199.940002</td>\n",
       "      <td>5.660000</td>\n",
       "      <td>169.600003</td>\n",
       "      <td>14.730000</td>\n",
       "      <td>2044</td>\n",
       "      <td>-17.575001</td>\n",
       "      <td>-69.525002</td>\n",
       "      <td>arica</td>\n",
       "    </tr>\n",
       "    <tr>\n",
       "      <th>326228</th>\n",
       "      <td>5.522624</td>\n",
       "      <td>19.851206</td>\n",
       "      <td>74.648568</td>\n",
       "      <td>250.631877</td>\n",
       "      <td>18.796827</td>\n",
       "      <td>-7.796056</td>\n",
       "      <td>26.592883</td>\n",
       "      <td>8.402974</td>\n",
       "      <td>4.529348</td>\n",
       "      <td>8.863727</td>\n",
       "      <td>...</td>\n",
       "      <td>0.000000</td>\n",
       "      <td>165.330161</td>\n",
       "      <td>198.189995</td>\n",
       "      <td>5.300000</td>\n",
       "      <td>167.699994</td>\n",
       "      <td>11.670000</td>\n",
       "      <td>2044</td>\n",
       "      <td>-17.575001</td>\n",
       "      <td>-69.474998</td>\n",
       "      <td>arica</td>\n",
       "    </tr>\n",
       "    <tr>\n",
       "      <th>326229</th>\n",
       "      <td>5.570535</td>\n",
       "      <td>20.113560</td>\n",
       "      <td>75.536923</td>\n",
       "      <td>236.679925</td>\n",
       "      <td>18.678011</td>\n",
       "      <td>-7.949444</td>\n",
       "      <td>26.627455</td>\n",
       "      <td>8.253972</td>\n",
       "      <td>4.582463</td>\n",
       "      <td>8.672986</td>\n",
       "      <td>...</td>\n",
       "      <td>0.000000</td>\n",
       "      <td>171.432384</td>\n",
       "      <td>191.720003</td>\n",
       "      <td>4.510000</td>\n",
       "      <td>162.390003</td>\n",
       "      <td>11.140000</td>\n",
       "      <td>2044</td>\n",
       "      <td>-17.525000</td>\n",
       "      <td>-69.474998</td>\n",
       "      <td>arica</td>\n",
       "    </tr>\n",
       "  </tbody>\n",
       "</table>\n",
       "<p>326230 rows × 23 columns</p>\n",
       "</div>"
      ],
      "text/plain": [
       "             bio1       bio2       bio3        bio4       bio5      bio6  \\\n",
       "0        9.575816  11.021486  47.175885  412.287173  22.217043 -1.145500   \n",
       "1       10.954794  11.447829  45.850797  435.275588  24.792957 -0.174611   \n",
       "2        8.954479  10.411931  46.246086  388.802038  20.976021 -1.538167   \n",
       "3        8.664561  10.440020  46.775321  391.218799  20.558172 -1.761333   \n",
       "4        8.375342  10.291969  45.833880  400.020932  20.368494 -2.086444   \n",
       "...           ...        ...        ...         ...        ...       ...   \n",
       "326225   5.597195  19.865078  74.465201  262.819980  19.121828 -7.555167   \n",
       "326226   5.384214  19.667782  73.024090  279.071370  19.176451 -7.756828   \n",
       "326227   5.429915  19.357091  75.625847  223.818898  18.448978 -7.146889   \n",
       "326228   5.522624  19.851206  74.648568  250.631877  18.796827 -7.796056   \n",
       "326229   5.570535  20.113560  75.536923  236.679925  18.678011 -7.949444   \n",
       "\n",
       "             bio7      bio8       bio9      bio10  ...      bio14       bio15  \\\n",
       "0       23.362543  5.268573  14.680799  14.894796  ...  24.020000   93.834573   \n",
       "1       24.967568  6.577527  16.321189  16.711368  ...  15.430000   97.701491   \n",
       "2       22.514187  4.935559  13.789515  13.961361  ...  18.440001   93.636105   \n",
       "3       22.319506  4.535946  13.523908  13.632026  ...  16.389999   99.083671   \n",
       "4       22.454938  4.078753  13.370639  13.418667  ...  18.250000   98.704995   \n",
       "...           ...       ...        ...        ...  ...        ...         ...   \n",
       "326225  26.676995  8.569974   5.111732   9.188881  ...   0.000000  165.097227   \n",
       "326226  26.933279  8.521595   4.843249   9.212814  ...   0.000000  170.754376   \n",
       "326227  25.595867  7.804326   5.111577   8.410760  ...   0.000000  166.266744   \n",
       "326228  26.592883  8.402974   4.529348   8.863727  ...   0.000000  165.330161   \n",
       "326229  26.627455  8.253972   4.582463   8.672986  ...   0.000000  171.432384   \n",
       "\n",
       "              bio16      bio17       bio18        bio19  year        lat  \\\n",
       "0       1623.639984  99.830000  238.679995  1468.169983  2007 -36.525002   \n",
       "1       1461.130005  81.940002  208.739998  1323.459999  2007 -36.474998   \n",
       "2       1593.359955  95.219999  250.279999  1424.039948  2007 -36.474998   \n",
       "3       1579.000031  79.820000  213.590004  1423.610016  2007 -36.474998   \n",
       "4       1773.809998  86.429998  239.400000  1590.940018  2007 -36.474998   \n",
       "...             ...        ...         ...          ...   ...        ...   \n",
       "326225   198.069992   5.750000  167.949993    13.820000  2044 -17.625000   \n",
       "326226   183.980001   5.080000  156.940001    13.230000  2044 -17.625000   \n",
       "326227   199.940002   5.660000  169.600003    14.730000  2044 -17.575001   \n",
       "326228   198.189995   5.300000  167.699994    11.670000  2044 -17.575001   \n",
       "326229   191.720003   4.510000  162.390003    11.140000  2044 -17.525000   \n",
       "\n",
       "              lon  region  \n",
       "0      -71.324997   maule  \n",
       "1      -71.425003   maule  \n",
       "2      -71.375000   maule  \n",
       "3      -71.324997   maule  \n",
       "4      -71.275002   maule  \n",
       "...           ...     ...  \n",
       "326225 -69.474998  arica   \n",
       "326226 -69.425003  arica   \n",
       "326227 -69.525002  arica   \n",
       "326228 -69.474998  arica   \n",
       "326229 -69.474998  arica   \n",
       "\n",
       "[326230 rows x 23 columns]"
      ]
     },
     "execution_count": 29,
     "metadata": {},
     "output_type": "execute_result"
    }
   ],
   "source": [
    "df"
   ]
  },
  {
   "cell_type": "code",
   "execution_count": 30,
   "id": "7260a629-98d7-432c-b5c0-dcb42c0b4911",
   "metadata": {},
   "outputs": [],
   "source": [
    "def arreglo_columnas(df):\n",
    "    df['atacama'] = (df['region']=='atacama')*1\n",
    "    df['arica'] = (df['region']=='arica ')*1\n",
    "    df['serena'] = (df['region']=='serena')*1\n",
    "    df['santiago'] = (df['region']=='santiago')*1\n",
    "    df['maule'] = (df['region']=='maule')*1\n",
    "    df['norte'] = ((df['region']=='arica ') | (df['region']=='atacama'))*1\n",
    "    df['sur'] = ((df['region']=='serena') | (df['region']=='santiago') | (df['region']=='maule'))*1\n",
    "    return df"
   ]
  },
  {
   "cell_type": "code",
   "execution_count": 31,
   "id": "d690799d-7ec4-44c0-a976-d2796ca5fdf0",
   "metadata": {},
   "outputs": [
    {
     "data": {
      "text/html": [
       "<div>\n",
       "<style scoped>\n",
       "    .dataframe tbody tr th:only-of-type {\n",
       "        vertical-align: middle;\n",
       "    }\n",
       "\n",
       "    .dataframe tbody tr th {\n",
       "        vertical-align: top;\n",
       "    }\n",
       "\n",
       "    .dataframe thead th {\n",
       "        text-align: right;\n",
       "    }\n",
       "</style>\n",
       "<table border=\"1\" class=\"dataframe\">\n",
       "  <thead>\n",
       "    <tr style=\"text-align: right;\">\n",
       "      <th></th>\n",
       "      <th>bio1</th>\n",
       "      <th>bio2</th>\n",
       "      <th>bio3</th>\n",
       "      <th>bio4</th>\n",
       "      <th>bio5</th>\n",
       "      <th>bio6</th>\n",
       "      <th>bio7</th>\n",
       "      <th>bio8</th>\n",
       "      <th>bio9</th>\n",
       "      <th>bio10</th>\n",
       "      <th>...</th>\n",
       "      <th>lat</th>\n",
       "      <th>lon</th>\n",
       "      <th>region</th>\n",
       "      <th>atacama</th>\n",
       "      <th>arica</th>\n",
       "      <th>serena</th>\n",
       "      <th>santiago</th>\n",
       "      <th>maule</th>\n",
       "      <th>norte</th>\n",
       "      <th>sur</th>\n",
       "    </tr>\n",
       "  </thead>\n",
       "  <tbody>\n",
       "    <tr>\n",
       "      <th>0</th>\n",
       "      <td>9.575816</td>\n",
       "      <td>11.021486</td>\n",
       "      <td>47.175885</td>\n",
       "      <td>412.287173</td>\n",
       "      <td>22.217043</td>\n",
       "      <td>-1.145500</td>\n",
       "      <td>23.362543</td>\n",
       "      <td>5.268573</td>\n",
       "      <td>14.680799</td>\n",
       "      <td>14.894796</td>\n",
       "      <td>...</td>\n",
       "      <td>-36.525002</td>\n",
       "      <td>-71.324997</td>\n",
       "      <td>maule</td>\n",
       "      <td>0</td>\n",
       "      <td>0</td>\n",
       "      <td>0</td>\n",
       "      <td>0</td>\n",
       "      <td>1</td>\n",
       "      <td>0</td>\n",
       "      <td>1</td>\n",
       "    </tr>\n",
       "    <tr>\n",
       "      <th>1</th>\n",
       "      <td>10.954794</td>\n",
       "      <td>11.447829</td>\n",
       "      <td>45.850797</td>\n",
       "      <td>435.275588</td>\n",
       "      <td>24.792957</td>\n",
       "      <td>-0.174611</td>\n",
       "      <td>24.967568</td>\n",
       "      <td>6.577527</td>\n",
       "      <td>16.321189</td>\n",
       "      <td>16.711368</td>\n",
       "      <td>...</td>\n",
       "      <td>-36.474998</td>\n",
       "      <td>-71.425003</td>\n",
       "      <td>maule</td>\n",
       "      <td>0</td>\n",
       "      <td>0</td>\n",
       "      <td>0</td>\n",
       "      <td>0</td>\n",
       "      <td>1</td>\n",
       "      <td>0</td>\n",
       "      <td>1</td>\n",
       "    </tr>\n",
       "    <tr>\n",
       "      <th>2</th>\n",
       "      <td>8.954479</td>\n",
       "      <td>10.411931</td>\n",
       "      <td>46.246086</td>\n",
       "      <td>388.802038</td>\n",
       "      <td>20.976021</td>\n",
       "      <td>-1.538167</td>\n",
       "      <td>22.514187</td>\n",
       "      <td>4.935559</td>\n",
       "      <td>13.789515</td>\n",
       "      <td>13.961361</td>\n",
       "      <td>...</td>\n",
       "      <td>-36.474998</td>\n",
       "      <td>-71.375000</td>\n",
       "      <td>maule</td>\n",
       "      <td>0</td>\n",
       "      <td>0</td>\n",
       "      <td>0</td>\n",
       "      <td>0</td>\n",
       "      <td>1</td>\n",
       "      <td>0</td>\n",
       "      <td>1</td>\n",
       "    </tr>\n",
       "    <tr>\n",
       "      <th>3</th>\n",
       "      <td>8.664561</td>\n",
       "      <td>10.440020</td>\n",
       "      <td>46.775321</td>\n",
       "      <td>391.218799</td>\n",
       "      <td>20.558172</td>\n",
       "      <td>-1.761333</td>\n",
       "      <td>22.319506</td>\n",
       "      <td>4.535946</td>\n",
       "      <td>13.523908</td>\n",
       "      <td>13.632026</td>\n",
       "      <td>...</td>\n",
       "      <td>-36.474998</td>\n",
       "      <td>-71.324997</td>\n",
       "      <td>maule</td>\n",
       "      <td>0</td>\n",
       "      <td>0</td>\n",
       "      <td>0</td>\n",
       "      <td>0</td>\n",
       "      <td>1</td>\n",
       "      <td>0</td>\n",
       "      <td>1</td>\n",
       "    </tr>\n",
       "    <tr>\n",
       "      <th>4</th>\n",
       "      <td>8.375342</td>\n",
       "      <td>10.291969</td>\n",
       "      <td>45.833880</td>\n",
       "      <td>400.020932</td>\n",
       "      <td>20.368494</td>\n",
       "      <td>-2.086444</td>\n",
       "      <td>22.454938</td>\n",
       "      <td>4.078753</td>\n",
       "      <td>13.370639</td>\n",
       "      <td>13.418667</td>\n",
       "      <td>...</td>\n",
       "      <td>-36.474998</td>\n",
       "      <td>-71.275002</td>\n",
       "      <td>maule</td>\n",
       "      <td>0</td>\n",
       "      <td>0</td>\n",
       "      <td>0</td>\n",
       "      <td>0</td>\n",
       "      <td>1</td>\n",
       "      <td>0</td>\n",
       "      <td>1</td>\n",
       "    </tr>\n",
       "    <tr>\n",
       "      <th>...</th>\n",
       "      <td>...</td>\n",
       "      <td>...</td>\n",
       "      <td>...</td>\n",
       "      <td>...</td>\n",
       "      <td>...</td>\n",
       "      <td>...</td>\n",
       "      <td>...</td>\n",
       "      <td>...</td>\n",
       "      <td>...</td>\n",
       "      <td>...</td>\n",
       "      <td>...</td>\n",
       "      <td>...</td>\n",
       "      <td>...</td>\n",
       "      <td>...</td>\n",
       "      <td>...</td>\n",
       "      <td>...</td>\n",
       "      <td>...</td>\n",
       "      <td>...</td>\n",
       "      <td>...</td>\n",
       "      <td>...</td>\n",
       "      <td>...</td>\n",
       "    </tr>\n",
       "    <tr>\n",
       "      <th>326225</th>\n",
       "      <td>5.597195</td>\n",
       "      <td>19.865078</td>\n",
       "      <td>74.465201</td>\n",
       "      <td>262.819980</td>\n",
       "      <td>19.121828</td>\n",
       "      <td>-7.555167</td>\n",
       "      <td>26.676995</td>\n",
       "      <td>8.569974</td>\n",
       "      <td>5.111732</td>\n",
       "      <td>9.188881</td>\n",
       "      <td>...</td>\n",
       "      <td>-17.625000</td>\n",
       "      <td>-69.474998</td>\n",
       "      <td>arica</td>\n",
       "      <td>0</td>\n",
       "      <td>1</td>\n",
       "      <td>0</td>\n",
       "      <td>0</td>\n",
       "      <td>0</td>\n",
       "      <td>1</td>\n",
       "      <td>0</td>\n",
       "    </tr>\n",
       "    <tr>\n",
       "      <th>326226</th>\n",
       "      <td>5.384214</td>\n",
       "      <td>19.667782</td>\n",
       "      <td>73.024090</td>\n",
       "      <td>279.071370</td>\n",
       "      <td>19.176451</td>\n",
       "      <td>-7.756828</td>\n",
       "      <td>26.933279</td>\n",
       "      <td>8.521595</td>\n",
       "      <td>4.843249</td>\n",
       "      <td>9.212814</td>\n",
       "      <td>...</td>\n",
       "      <td>-17.625000</td>\n",
       "      <td>-69.425003</td>\n",
       "      <td>arica</td>\n",
       "      <td>0</td>\n",
       "      <td>1</td>\n",
       "      <td>0</td>\n",
       "      <td>0</td>\n",
       "      <td>0</td>\n",
       "      <td>1</td>\n",
       "      <td>0</td>\n",
       "    </tr>\n",
       "    <tr>\n",
       "      <th>326227</th>\n",
       "      <td>5.429915</td>\n",
       "      <td>19.357091</td>\n",
       "      <td>75.625847</td>\n",
       "      <td>223.818898</td>\n",
       "      <td>18.448978</td>\n",
       "      <td>-7.146889</td>\n",
       "      <td>25.595867</td>\n",
       "      <td>7.804326</td>\n",
       "      <td>5.111577</td>\n",
       "      <td>8.410760</td>\n",
       "      <td>...</td>\n",
       "      <td>-17.575001</td>\n",
       "      <td>-69.525002</td>\n",
       "      <td>arica</td>\n",
       "      <td>0</td>\n",
       "      <td>1</td>\n",
       "      <td>0</td>\n",
       "      <td>0</td>\n",
       "      <td>0</td>\n",
       "      <td>1</td>\n",
       "      <td>0</td>\n",
       "    </tr>\n",
       "    <tr>\n",
       "      <th>326228</th>\n",
       "      <td>5.522624</td>\n",
       "      <td>19.851206</td>\n",
       "      <td>74.648568</td>\n",
       "      <td>250.631877</td>\n",
       "      <td>18.796827</td>\n",
       "      <td>-7.796056</td>\n",
       "      <td>26.592883</td>\n",
       "      <td>8.402974</td>\n",
       "      <td>4.529348</td>\n",
       "      <td>8.863727</td>\n",
       "      <td>...</td>\n",
       "      <td>-17.575001</td>\n",
       "      <td>-69.474998</td>\n",
       "      <td>arica</td>\n",
       "      <td>0</td>\n",
       "      <td>1</td>\n",
       "      <td>0</td>\n",
       "      <td>0</td>\n",
       "      <td>0</td>\n",
       "      <td>1</td>\n",
       "      <td>0</td>\n",
       "    </tr>\n",
       "    <tr>\n",
       "      <th>326229</th>\n",
       "      <td>5.570535</td>\n",
       "      <td>20.113560</td>\n",
       "      <td>75.536923</td>\n",
       "      <td>236.679925</td>\n",
       "      <td>18.678011</td>\n",
       "      <td>-7.949444</td>\n",
       "      <td>26.627455</td>\n",
       "      <td>8.253972</td>\n",
       "      <td>4.582463</td>\n",
       "      <td>8.672986</td>\n",
       "      <td>...</td>\n",
       "      <td>-17.525000</td>\n",
       "      <td>-69.474998</td>\n",
       "      <td>arica</td>\n",
       "      <td>0</td>\n",
       "      <td>1</td>\n",
       "      <td>0</td>\n",
       "      <td>0</td>\n",
       "      <td>0</td>\n",
       "      <td>1</td>\n",
       "      <td>0</td>\n",
       "    </tr>\n",
       "  </tbody>\n",
       "</table>\n",
       "<p>326230 rows × 30 columns</p>\n",
       "</div>"
      ],
      "text/plain": [
       "             bio1       bio2       bio3        bio4       bio5      bio6  \\\n",
       "0        9.575816  11.021486  47.175885  412.287173  22.217043 -1.145500   \n",
       "1       10.954794  11.447829  45.850797  435.275588  24.792957 -0.174611   \n",
       "2        8.954479  10.411931  46.246086  388.802038  20.976021 -1.538167   \n",
       "3        8.664561  10.440020  46.775321  391.218799  20.558172 -1.761333   \n",
       "4        8.375342  10.291969  45.833880  400.020932  20.368494 -2.086444   \n",
       "...           ...        ...        ...         ...        ...       ...   \n",
       "326225   5.597195  19.865078  74.465201  262.819980  19.121828 -7.555167   \n",
       "326226   5.384214  19.667782  73.024090  279.071370  19.176451 -7.756828   \n",
       "326227   5.429915  19.357091  75.625847  223.818898  18.448978 -7.146889   \n",
       "326228   5.522624  19.851206  74.648568  250.631877  18.796827 -7.796056   \n",
       "326229   5.570535  20.113560  75.536923  236.679925  18.678011 -7.949444   \n",
       "\n",
       "             bio7      bio8       bio9      bio10  ...        lat        lon  \\\n",
       "0       23.362543  5.268573  14.680799  14.894796  ... -36.525002 -71.324997   \n",
       "1       24.967568  6.577527  16.321189  16.711368  ... -36.474998 -71.425003   \n",
       "2       22.514187  4.935559  13.789515  13.961361  ... -36.474998 -71.375000   \n",
       "3       22.319506  4.535946  13.523908  13.632026  ... -36.474998 -71.324997   \n",
       "4       22.454938  4.078753  13.370639  13.418667  ... -36.474998 -71.275002   \n",
       "...           ...       ...        ...        ...  ...        ...        ...   \n",
       "326225  26.676995  8.569974   5.111732   9.188881  ... -17.625000 -69.474998   \n",
       "326226  26.933279  8.521595   4.843249   9.212814  ... -17.625000 -69.425003   \n",
       "326227  25.595867  7.804326   5.111577   8.410760  ... -17.575001 -69.525002   \n",
       "326228  26.592883  8.402974   4.529348   8.863727  ... -17.575001 -69.474998   \n",
       "326229  26.627455  8.253972   4.582463   8.672986  ... -17.525000 -69.474998   \n",
       "\n",
       "        region  atacama  arica  serena  santiago  maule  norte  sur  \n",
       "0        maule        0      0       0         0      1      0    1  \n",
       "1        maule        0      0       0         0      1      0    1  \n",
       "2        maule        0      0       0         0      1      0    1  \n",
       "3        maule        0      0       0         0      1      0    1  \n",
       "4        maule        0      0       0         0      1      0    1  \n",
       "...        ...      ...    ...     ...       ...    ...    ...  ...  \n",
       "326225  arica         0      1       0         0      0      1    0  \n",
       "326226  arica         0      1       0         0      0      1    0  \n",
       "326227  arica         0      1       0         0      0      1    0  \n",
       "326228  arica         0      1       0         0      0      1    0  \n",
       "326229  arica         0      1       0         0      0      1    0  \n",
       "\n",
       "[326230 rows x 30 columns]"
      ]
     },
     "execution_count": 31,
     "metadata": {},
     "output_type": "execute_result"
    }
   ],
   "source": [
    "df_ = arreglo_columnas(df)\n",
    "df_"
   ]
  },
  {
   "cell_type": "code",
   "execution_count": 32,
   "id": "9e401111-fe8a-4604-a3c5-244ba827b905",
   "metadata": {},
   "outputs": [],
   "source": [
    "df_.to_csv('data/X_cr2.csv', index=False)"
   ]
  },
  {
   "cell_type": "code",
   "execution_count": null,
   "id": "d9a4cc31-6ce9-4647-b0de-5e89987b3300",
   "metadata": {},
   "outputs": [],
   "source": []
  }
 ],
 "metadata": {
  "kernelspec": {
   "display_name": "Python 3",
   "language": "python",
   "name": "python3"
  },
  "language_info": {
   "codemirror_mode": {
    "name": "ipython",
    "version": 3
   },
   "file_extension": ".py",
   "mimetype": "text/x-python",
   "name": "python",
   "nbconvert_exporter": "python",
   "pygments_lexer": "ipython3",
   "version": "3.8.8"
  }
 },
 "nbformat": 4,
 "nbformat_minor": 5
}
