{
 "cells": [
  {
   "cell_type": "code",
   "execution_count": 27,
   "id": "bc8e94e8",
   "metadata": {},
   "outputs": [],
   "source": [
    "import pandas as pd\n",
    "import numpy as np\n",
    "import seaborn as sns\n",
    "from netCDF4 import Dataset\n",
    "from shapely.geometry import Point, Polygon\n",
    "import pickle\n",
    "from tqdm import tqdm_notebook as tqdm"
   ]
  },
  {
   "cell_type": "code",
   "execution_count": 28,
   "id": "c0603cad",
   "metadata": {},
   "outputs": [],
   "source": [
    "def call_var(name,rcp):\n",
    "    dataset = Dataset('C:/Users/bmati/Desktop/proyecto296/generando_capas_bioclimaticas/data/out/bioclimatic_Reg'+rcp+'_2007_2050/'+name+'.nc', mode=\"r\")\n",
    "    z = dataset.variables[name][:]\n",
    "    grid_lat = dataset.variables['lat'][:]\n",
    "    grid_lon = dataset.variables['lon'][:]\n",
    "    dataset.close()\n",
    "    return z, grid_lat, grid_lon\n",
    "\n",
    "def select_poligon(df, poligon):\n",
    "    list_index = []\n",
    "    for i in range(0, len(df['Latitude'])):\n",
    "        point = Point((df['Longitude'][i],df['Latitude'][i]))\n",
    "        if poligon.contains(point):\n",
    "            list_index.append(i)\n",
    "    df = df.filter(items = list_index, axis=0)\n",
    "    return df"
   ]
  },
  {
   "cell_type": "code",
   "execution_count": null,
   "id": "49b9bebe",
   "metadata": {},
   "outputs": [],
   "source": []
  },
  {
   "cell_type": "code",
   "execution_count": 29,
   "id": "5f254f48-8a49-4b63-983c-6f2e96690a72",
   "metadata": {},
   "outputs": [],
   "source": [
    "N_Plant_85, N_Soil_85, C_Plant_85, C_Soil_85, N_Plant_26, N_Soil_26, C_Plant_26, C_Soil_26  = [],[],[],[],[],[],[],[]\n",
    "\n",
    "rcp_85, rcp_26 = [],[]\n",
    "\n",
    "name_bio = ['bio1', 'bio2', 'bio3', 'bio4', 'bio5', 'bio6', 'bio7', 'bio8', 'bio9',\n",
    "       'bio10', 'bio11', 'bio12', 'bio13', 'bio14', 'bio15', 'bio16', 'bio17',\n",
    "       'bio18', 'bio19']"
   ]
  },
  {
   "cell_type": "code",
   "execution_count": 30,
   "id": "57e65db5",
   "metadata": {},
   "outputs": [
    {
     "name": "stderr",
     "output_type": "stream",
     "text": [
      "<ipython-input-30-82e627682ed2>:1: TqdmDeprecationWarning: This function will be removed in tqdm==5.0.0\n",
      "Please use `tqdm.notebook.tqdm` instead of `tqdm.tqdm_notebook`\n",
      "  for name in tqdm(name_bio):\n"
     ]
    },
    {
     "data": {
      "application/vnd.jupyter.widget-view+json": {
       "model_id": "41934f33fd5d4f0c8bfb6f4f9e098413",
       "version_major": 2,
       "version_minor": 0
      },
      "text/plain": [
       "  0%|          | 0/19 [00:00<?, ?it/s]"
      ]
     },
     "metadata": {},
     "output_type": "display_data"
    },
    {
     "name": "stderr",
     "output_type": "stream",
     "text": [
      "<ipython-input-28-f4346a069b9d>:3: DeprecationWarning: `np.bool` is a deprecated alias for the builtin `bool`. To silence this warning, use `bool` by itself. Doing this will not modify any behavior and is safe. If you specifically wanted the numpy scalar type, use `np.bool_` here.\n",
      "Deprecated in NumPy 1.20; for more details and guidance: https://numpy.org/devdocs/release/1.20.0-notes.html#deprecations\n",
      "  z = dataset.variables[name][:]\n",
      "<ipython-input-28-f4346a069b9d>:4: DeprecationWarning: `np.bool` is a deprecated alias for the builtin `bool`. To silence this warning, use `bool` by itself. Doing this will not modify any behavior and is safe. If you specifically wanted the numpy scalar type, use `np.bool_` here.\n",
      "Deprecated in NumPy 1.20; for more details and guidance: https://numpy.org/devdocs/release/1.20.0-notes.html#deprecations\n",
      "  grid_lat = dataset.variables['lat'][:]\n",
      "<ipython-input-28-f4346a069b9d>:5: DeprecationWarning: `np.bool` is a deprecated alias for the builtin `bool`. To silence this warning, use `bool` by itself. Doing this will not modify any behavior and is safe. If you specifically wanted the numpy scalar type, use `np.bool_` here.\n",
      "Deprecated in NumPy 1.20; for more details and guidance: https://numpy.org/devdocs/release/1.20.0-notes.html#deprecations\n",
      "  grid_lon = dataset.variables['lon'][:]\n"
     ]
    }
   ],
   "source": [
    "for name in tqdm(name_bio):\n",
    "    z26, grid_lat, grid_lon = call_var(name,'26')\n",
    "    z85, grid_lat, grid_lon = call_var(name,'85')\n",
    "    rcp_26.append(z26)\n",
    "    rcp_85.append(z85)\n",
    "    "
   ]
  },
  {
   "cell_type": "code",
   "execution_count": 31,
   "id": "9b62a523-9618-4f15-8588-454c0b0a6660",
   "metadata": {},
   "outputs": [
    {
     "data": {
      "text/plain": [
       "masked_array(data=[-72.97, -72.88, -72.79, -72.7 , -72.61, -72.52, -72.43,\n",
       "                   -72.34, -72.25, -72.16, -72.07, -71.98, -71.89, -71.8 ,\n",
       "                   -71.71, -71.62, -71.53, -71.44, -71.35, -71.26, -71.17,\n",
       "                   -71.08, -70.99, -70.9 , -70.81, -70.72, -70.63, -70.54,\n",
       "                   -70.45, -70.36, -70.27, -70.18, -70.09, -70.  , -69.91,\n",
       "                   -69.82, -69.73, -69.64, -69.55, -69.46, -69.37, -69.28,\n",
       "                   -69.19, -69.1 , -69.01, -68.92, -68.83, -68.74, -68.65,\n",
       "                   -68.56, -68.47, -68.38, -68.29, -68.2 , -68.11, -68.02,\n",
       "                   -67.93, -67.84, -67.75, -67.66, -67.57, -67.48, -67.39,\n",
       "                   -67.3 , -67.21, -67.12, -67.03, -66.94, -66.85, -66.76,\n",
       "                   -66.67, -66.58, -66.49, -66.4 , -66.31, -66.22, -66.13,\n",
       "                   -66.04, -65.95, -65.86, -65.77, -65.68, -65.59, -65.5 ,\n",
       "                   -65.41, -65.32, -65.23, -65.14, -65.05, -64.96, -64.87,\n",
       "                   -64.78, -64.69, -64.6 , -64.51, -64.42, -64.33, -64.24,\n",
       "                   -64.15, -64.06, -63.97, -63.88, -63.79, -63.7 , -63.61,\n",
       "                   -63.52, -63.43, -63.34, -63.25, -63.16, -63.07],\n",
       "             mask=False,\n",
       "       fill_value=1e+20,\n",
       "            dtype=float32)"
      ]
     },
     "execution_count": 31,
     "metadata": {},
     "output_type": "execute_result"
    }
   ],
   "source": [
    "mask1 = (grid_lon >-73) & (grid_lon <-63)\n",
    "grid_lon[mask1]\n"
   ]
  },
  {
   "cell_type": "code",
   "execution_count": 37,
   "id": "12187ecd-6a6f-4a11-95f2-fbc8e7207276",
   "metadata": {},
   "outputs": [
    {
     "data": {
      "text/plain": [
       "masked_array(data=[-72.97, -72.88, -72.79, -72.7 , -72.61, -72.52, -72.43,\n",
       "                   -72.34, -72.25, -72.16, -72.07, -71.98, -71.89, -71.8 ,\n",
       "                   -71.71, -71.62, -71.53, -71.44, -71.35, -71.26, -71.17,\n",
       "                   -71.08, -70.99, -70.9 , -70.81, -70.72, -70.63, -70.54,\n",
       "                   -70.45, -70.36, -70.27, -70.18, -70.09, -70.  , -69.91,\n",
       "                   -69.82, -69.73, -69.64, -69.55, -69.46, -69.37, -69.28,\n",
       "                   -69.19, -69.1 , -69.01, -68.92, -68.83, -68.74, -68.65,\n",
       "                   -68.56, -68.47, -68.38, -68.29, -68.2 , -68.11, -68.02,\n",
       "                   -67.93, -67.84, -67.75, -67.66, -67.57, -67.48, -67.39,\n",
       "                   -67.3 , -67.21, -67.12, -67.03, -66.94, -66.85, -66.76,\n",
       "                   -66.67, -66.58, -66.49, -66.4 , -66.31, -66.22, -66.13,\n",
       "                   -66.04, -65.95, -65.86, -65.77, -65.68, -65.59, -65.5 ,\n",
       "                   -65.41, -65.32, -65.23, -65.14, -65.05, -64.96, -64.87,\n",
       "                   -64.78, -64.69, -64.6 , -64.51, -64.42, -64.33, -64.24,\n",
       "                   -64.15, -64.06, -63.97, -63.88, -63.79, -63.7 , -63.61,\n",
       "                   -63.52, -63.43, -63.34, -63.25, -63.16, -63.07],\n",
       "             mask=False,\n",
       "       fill_value=1e+20,\n",
       "            dtype=float32)"
      ]
     },
     "execution_count": 37,
     "metadata": {},
     "output_type": "execute_result"
    }
   ],
   "source": [
    "grid_lon[267:378]"
   ]
  },
  {
   "cell_type": "code",
   "execution_count": 53,
   "id": "15fdbda7-461d-4bf4-8fe7-6821141aa9b1",
   "metadata": {},
   "outputs": [
    {
     "data": {
      "text/plain": [
       "masked_array(data=[-36.95, -36.86, -36.77, -36.68, -36.59, -36.5 , -36.41,\n",
       "                   -36.32, -36.23, -36.14, -36.05, -35.96, -35.87, -35.78,\n",
       "                   -35.69, -35.6 , -35.51, -35.42, -35.33, -35.24, -35.15,\n",
       "                   -35.06, -34.97, -34.88, -34.79, -34.7 , -34.61, -34.52,\n",
       "                   -34.43, -34.34, -34.25, -34.16, -34.07, -33.98, -33.89,\n",
       "                   -33.8 , -33.71, -33.62, -33.53, -33.44, -33.35, -33.26,\n",
       "                   -33.17, -33.08, -32.99, -32.9 , -32.81, -32.72, -32.63,\n",
       "                   -32.54, -32.45, -32.36, -32.27, -32.18, -32.09, -32.  ,\n",
       "                   -31.91, -31.82, -31.73, -31.64, -31.55, -31.46, -31.37,\n",
       "                   -31.28, -31.19, -31.1 , -31.01, -30.92, -30.83, -30.74,\n",
       "                   -30.65, -30.56, -30.47, -30.38, -30.29, -30.2 , -30.11,\n",
       "                   -30.02, -29.93, -29.84, -29.75, -29.66, -29.57, -29.48,\n",
       "                   -29.39, -29.3 , -29.21, -29.12, -29.03, -28.94, -28.85,\n",
       "                   -28.76, -28.67, -28.58, -28.49, -28.4 , -28.31, -28.22,\n",
       "                   -28.13, -28.04, -27.95, -27.86, -27.77, -27.68, -27.59,\n",
       "                   -27.5 , -27.41, -27.32, -27.23, -27.14, -27.05, -26.96,\n",
       "                   -26.87, -26.78, -26.69, -26.6 , -26.51, -26.42, -26.33,\n",
       "                   -26.24, -26.15, -26.06, -25.97, -25.88, -25.79, -25.7 ,\n",
       "                   -25.61, -25.52, -25.43, -25.34, -25.25, -25.16, -25.07,\n",
       "                   -24.98, -24.89, -24.8 , -24.71, -24.62, -24.53, -24.44,\n",
       "                   -24.35, -24.26, -24.17, -24.08, -23.99, -23.9 , -23.81,\n",
       "                   -23.72, -23.63, -23.54, -23.45, -23.36, -23.27, -23.18,\n",
       "                   -23.09, -23.  , -22.91, -22.82, -22.73, -22.64, -22.55,\n",
       "                   -22.46, -22.37, -22.28, -22.19, -22.1 , -22.01, -21.92,\n",
       "                   -21.83, -21.74, -21.65, -21.56, -21.47, -21.38, -21.29,\n",
       "                   -21.2 , -21.11, -21.02, -20.93, -20.84, -20.75, -20.66,\n",
       "                   -20.57, -20.48, -20.39, -20.3 , -20.21, -20.12, -20.03,\n",
       "                   -19.94, -19.85, -19.76, -19.67, -19.58, -19.49, -19.4 ,\n",
       "                   -19.31, -19.22, -19.13, -19.04, -18.95, -18.86, -18.77,\n",
       "                   -18.68, -18.59, -18.5 , -18.41, -18.32, -18.23, -18.14,\n",
       "                   -18.05, -17.96, -17.87, -17.78, -17.69, -17.6 , -17.51,\n",
       "                   -17.42, -17.33, -17.24, -17.15, -17.06, -16.97, -16.88,\n",
       "                   -16.79, -16.7 , -16.61, -16.52, -16.43, -16.34, -16.25,\n",
       "                   -16.16, -16.07],\n",
       "             mask=False,\n",
       "       fill_value=1e+20,\n",
       "            dtype=float32)"
      ]
     },
     "execution_count": 53,
     "metadata": {},
     "output_type": "execute_result"
    }
   ],
   "source": [
    "mask2 = (grid_lat >-37) & (grid_lat <-16)\n",
    "grid_lat[mask2]\n"
   ]
  },
  {
   "cell_type": "code",
   "execution_count": 65,
   "id": "c98de4f6-e991-47ce-a560-eeab77d2ef6e",
   "metadata": {},
   "outputs": [
    {
     "data": {
      "text/plain": [
       "masked_array(data=[-37.04, -36.95, -36.86, -36.77, -36.68, -36.59, -36.5 ,\n",
       "                   -36.41, -36.32, -36.23, -36.14, -36.05, -35.96, -35.87,\n",
       "                   -35.78, -35.69, -35.6 , -35.51, -35.42, -35.33, -35.24,\n",
       "                   -35.15, -35.06, -34.97, -34.88, -34.79, -34.7 , -34.61,\n",
       "                   -34.52, -34.43, -34.34, -34.25, -34.16, -34.07, -33.98,\n",
       "                   -33.89, -33.8 , -33.71, -33.62, -33.53, -33.44, -33.35,\n",
       "                   -33.26, -33.17, -33.08, -32.99, -32.9 , -32.81, -32.72,\n",
       "                   -32.63, -32.54, -32.45, -32.36, -32.27, -32.18, -32.09,\n",
       "                   -32.  , -31.91, -31.82, -31.73, -31.64, -31.55, -31.46,\n",
       "                   -31.37, -31.28, -31.19, -31.1 , -31.01, -30.92, -30.83,\n",
       "                   -30.74, -30.65, -30.56, -30.47, -30.38, -30.29, -30.2 ,\n",
       "                   -30.11, -30.02, -29.93, -29.84, -29.75, -29.66, -29.57,\n",
       "                   -29.48, -29.39, -29.3 , -29.21, -29.12, -29.03, -28.94,\n",
       "                   -28.85, -28.76, -28.67, -28.58, -28.49, -28.4 , -28.31,\n",
       "                   -28.22, -28.13, -28.04, -27.95, -27.86, -27.77, -27.68,\n",
       "                   -27.59, -27.5 , -27.41, -27.32, -27.23, -27.14, -27.05,\n",
       "                   -26.96, -26.87, -26.78, -26.69, -26.6 , -26.51, -26.42,\n",
       "                   -26.33, -26.24, -26.15, -26.06, -25.97, -25.88, -25.79,\n",
       "                   -25.7 , -25.61, -25.52, -25.43, -25.34, -25.25, -25.16,\n",
       "                   -25.07, -24.98, -24.89, -24.8 , -24.71, -24.62, -24.53,\n",
       "                   -24.44, -24.35, -24.26, -24.17, -24.08, -23.99, -23.9 ,\n",
       "                   -23.81, -23.72, -23.63, -23.54, -23.45, -23.36, -23.27,\n",
       "                   -23.18, -23.09, -23.  , -22.91, -22.82, -22.73, -22.64,\n",
       "                   -22.55, -22.46, -22.37, -22.28, -22.19, -22.1 , -22.01,\n",
       "                   -21.92, -21.83, -21.74, -21.65, -21.56, -21.47, -21.38,\n",
       "                   -21.29, -21.2 , -21.11, -21.02, -20.93, -20.84, -20.75,\n",
       "                   -20.66, -20.57, -20.48, -20.39, -20.3 , -20.21, -20.12,\n",
       "                   -20.03, -19.94, -19.85, -19.76, -19.67, -19.58, -19.49,\n",
       "                   -19.4 , -19.31, -19.22, -19.13, -19.04, -18.95, -18.86,\n",
       "                   -18.77, -18.68, -18.59, -18.5 , -18.41, -18.32, -18.23,\n",
       "                   -18.14, -18.05, -17.96, -17.87, -17.78, -17.69, -17.6 ,\n",
       "                   -17.51, -17.42, -17.33, -17.24, -17.15, -17.06, -16.97,\n",
       "                   -16.88, -16.79, -16.7 , -16.61, -16.52, -16.43, -16.34,\n",
       "                   -16.25, -16.16, -16.07],\n",
       "             mask=False,\n",
       "       fill_value=1e+20,\n",
       "            dtype=float32)"
      ]
     },
     "execution_count": 65,
     "metadata": {},
     "output_type": "execute_result"
    }
   ],
   "source": [
    "grid_lat[244:478]"
   ]
  },
  {
   "cell_type": "code",
   "execution_count": 42,
   "id": "c849af6e",
   "metadata": {},
   "outputs": [
    {
     "data": {
      "text/plain": [
       "(19, 44, 523, 556)"
      ]
     },
     "execution_count": 42,
     "metadata": {},
     "output_type": "execute_result"
    }
   ],
   "source": [
    "np.shape(rcp_26)"
   ]
  },
  {
   "cell_type": "code",
   "execution_count": 43,
   "id": "560f0f47-30ae-4584-9faf-77176f5bb42e",
   "metadata": {},
   "outputs": [],
   "source": [
    "def filter(lat, lon):\n",
    "    poli = list(eval(df_poligon['Atacama'][0]))\n",
    "    atacama = Polygon(poli)\n",
    "    poli = list(eval(df_poligon['Arica'][0]))\n",
    "    arica = Polygon(poli)\n",
    "    poli = list(eval(df_poligon['La_Serena'][0]))\n",
    "    serena = Polygon(poli)\n",
    "    poli = list(eval(df_poligon['Santiago'][0]))\n",
    "    santiago = Polygon(poli)\n",
    "    poli = list(eval(df_poligon['Maule'][0]))\n",
    "    maule = Polygon(poli)\n",
    "    point = Point((lon,lat))\n",
    "    if arica.contains(point):\n",
    "        regiones = 'arica '#'(1,0,0,0,0,1,0)'\n",
    "    elif atacama.contains(point):\n",
    "        regiones = 'atacama' #(0,1,0,0,0,1,0)\n",
    "    elif serena.contains(point):\n",
    "        regiones = 'serena' #(0,0,1,0,0,0,1)\n",
    "    elif santiago.contains(point):\n",
    "        regiones = 'santiago' #(0,0,0,1,0,0,1)\n",
    "    elif maule.contains(point):\n",
    "        regiones = 'maule' #(0,0,0,0,1,0,1)\n",
    "    else:\n",
    "        regiones = None\n",
    "    return regiones\n",
    "     "
   ]
  },
  {
   "cell_type": "code",
   "execution_count": 44,
   "id": "0211c919-960e-47ff-a1d9-e6cb7f38281c",
   "metadata": {},
   "outputs": [],
   "source": [
    "def add_columns(arica, atacama, serena, santiago, maule, norte, sur, regiones):   \n",
    "    \n",
    "    arica.append(regiones[0])\n",
    "    atacama.append(regiones[1])\n",
    "    serena.append(regiones[2])\n",
    "    santiago.append(regiones[3])\n",
    "    maule.append(regiones[4])\n",
    "    norte.append(regiones[5])\n",
    "    sur.append(regiones[6])\n",
    "\n",
    "    return arica, atacama, serena, santiago, maule, norte, sur"
   ]
  },
  {
   "cell_type": "code",
   "execution_count": 73,
   "id": "18736e6d-fbf0-402d-bfc9-a4d966f21c37",
   "metadata": {},
   "outputs": [
    {
     "name": "stderr",
     "output_type": "stream",
     "text": [
      "<ipython-input-73-352cfa59ed75>:8: TqdmDeprecationWarning: This function will be removed in tqdm==5.0.0\n",
      "Please use `tqdm.notebook.tqdm` instead of `tqdm.tqdm_notebook`\n",
      "  for year in tqdm(range(0,44)):\n"
     ]
    },
    {
     "data": {
      "application/vnd.jupyter.widget-view+json": {
       "model_id": "c10bd9bfb79a4596b171cf8e02aba363",
       "version_major": 2,
       "version_minor": 0
      },
      "text/plain": [
       "  0%|          | 0/44 [00:00<?, ?it/s]"
      ]
     },
     "metadata": {},
     "output_type": "display_data"
    },
    {
     "name": "stderr",
     "output_type": "stream",
     "text": [
      "<ipython-input-73-352cfa59ed75>:9: TqdmDeprecationWarning: This function will be removed in tqdm==5.0.0\n",
      "Please use `tqdm.notebook.tqdm` instead of `tqdm.tqdm_notebook`\n",
      "  for lat_i in tqdm(range(244,478)):\n"
     ]
    },
    {
     "data": {
      "application/vnd.jupyter.widget-view+json": {
       "model_id": "f37880fa1a4b4447925d5113c1a4139b",
       "version_major": 2,
       "version_minor": 0
      },
      "text/plain": [
       "  0%|          | 0/234 [00:00<?, ?it/s]"
      ]
     },
     "metadata": {},
     "output_type": "display_data"
    },
    {
     "data": {
      "application/vnd.jupyter.widget-view+json": {
       "model_id": "35d32637d5484deda1dbfc08a57f0030",
       "version_major": 2,
       "version_minor": 0
      },
      "text/plain": [
       "  0%|          | 0/234 [00:00<?, ?it/s]"
      ]
     },
     "metadata": {},
     "output_type": "display_data"
    },
    {
     "data": {
      "application/vnd.jupyter.widget-view+json": {
       "model_id": "bef3346aa1114a97bbaea22dec5d599b",
       "version_major": 2,
       "version_minor": 0
      },
      "text/plain": [
       "  0%|          | 0/234 [00:00<?, ?it/s]"
      ]
     },
     "metadata": {},
     "output_type": "display_data"
    },
    {
     "data": {
      "application/vnd.jupyter.widget-view+json": {
       "model_id": "909c7159b3c5479f84ea79c086167322",
       "version_major": 2,
       "version_minor": 0
      },
      "text/plain": [
       "  0%|          | 0/234 [00:00<?, ?it/s]"
      ]
     },
     "metadata": {},
     "output_type": "display_data"
    },
    {
     "data": {
      "application/vnd.jupyter.widget-view+json": {
       "model_id": "8a95ca22cb5d448095e85fe9edd9c422",
       "version_major": 2,
       "version_minor": 0
      },
      "text/plain": [
       "  0%|          | 0/234 [00:00<?, ?it/s]"
      ]
     },
     "metadata": {},
     "output_type": "display_data"
    },
    {
     "data": {
      "application/vnd.jupyter.widget-view+json": {
       "model_id": "6f629e6c8a2141678bb1f40e6072b7fc",
       "version_major": 2,
       "version_minor": 0
      },
      "text/plain": [
       "  0%|          | 0/234 [00:00<?, ?it/s]"
      ]
     },
     "metadata": {},
     "output_type": "display_data"
    },
    {
     "data": {
      "application/vnd.jupyter.widget-view+json": {
       "model_id": "753a3849f7644f70a87b10266a3b9cb0",
       "version_major": 2,
       "version_minor": 0
      },
      "text/plain": [
       "  0%|          | 0/234 [00:00<?, ?it/s]"
      ]
     },
     "metadata": {},
     "output_type": "display_data"
    },
    {
     "data": {
      "application/vnd.jupyter.widget-view+json": {
       "model_id": "92a64a0c586e4b518aa6dc79074dfe5c",
       "version_major": 2,
       "version_minor": 0
      },
      "text/plain": [
       "  0%|          | 0/234 [00:00<?, ?it/s]"
      ]
     },
     "metadata": {},
     "output_type": "display_data"
    },
    {
     "data": {
      "application/vnd.jupyter.widget-view+json": {
       "model_id": "e5405b885dbb4037ac428add01447ff6",
       "version_major": 2,
       "version_minor": 0
      },
      "text/plain": [
       "  0%|          | 0/234 [00:00<?, ?it/s]"
      ]
     },
     "metadata": {},
     "output_type": "display_data"
    },
    {
     "data": {
      "application/vnd.jupyter.widget-view+json": {
       "model_id": "0782b459cecd4a2baf49e5ca571636b3",
       "version_major": 2,
       "version_minor": 0
      },
      "text/plain": [
       "  0%|          | 0/234 [00:00<?, ?it/s]"
      ]
     },
     "metadata": {},
     "output_type": "display_data"
    },
    {
     "data": {
      "application/vnd.jupyter.widget-view+json": {
       "model_id": "d41cae3bb9ea4a7cbcc6dc6165568396",
       "version_major": 2,
       "version_minor": 0
      },
      "text/plain": [
       "  0%|          | 0/234 [00:00<?, ?it/s]"
      ]
     },
     "metadata": {},
     "output_type": "display_data"
    },
    {
     "data": {
      "application/vnd.jupyter.widget-view+json": {
       "model_id": "241eb64646bf4766b9e2183b8077047d",
       "version_major": 2,
       "version_minor": 0
      },
      "text/plain": [
       "  0%|          | 0/234 [00:00<?, ?it/s]"
      ]
     },
     "metadata": {},
     "output_type": "display_data"
    },
    {
     "data": {
      "application/vnd.jupyter.widget-view+json": {
       "model_id": "7bbb21c36aad4d07bb47ce37c1effd70",
       "version_major": 2,
       "version_minor": 0
      },
      "text/plain": [
       "  0%|          | 0/234 [00:00<?, ?it/s]"
      ]
     },
     "metadata": {},
     "output_type": "display_data"
    },
    {
     "data": {
      "application/vnd.jupyter.widget-view+json": {
       "model_id": "bc5c92230b9b4c90ae4bd042bb160ffa",
       "version_major": 2,
       "version_minor": 0
      },
      "text/plain": [
       "  0%|          | 0/234 [00:00<?, ?it/s]"
      ]
     },
     "metadata": {},
     "output_type": "display_data"
    },
    {
     "data": {
      "application/vnd.jupyter.widget-view+json": {
       "model_id": "ace766adb5a84115bd76b9e4693e5547",
       "version_major": 2,
       "version_minor": 0
      },
      "text/plain": [
       "  0%|          | 0/234 [00:00<?, ?it/s]"
      ]
     },
     "metadata": {},
     "output_type": "display_data"
    },
    {
     "data": {
      "application/vnd.jupyter.widget-view+json": {
       "model_id": "6262a18c6c66418aa7fe63c962016f73",
       "version_major": 2,
       "version_minor": 0
      },
      "text/plain": [
       "  0%|          | 0/234 [00:00<?, ?it/s]"
      ]
     },
     "metadata": {},
     "output_type": "display_data"
    },
    {
     "data": {
      "application/vnd.jupyter.widget-view+json": {
       "model_id": "a6ad04fbbb6847f683793bb2d1fbf866",
       "version_major": 2,
       "version_minor": 0
      },
      "text/plain": [
       "  0%|          | 0/234 [00:00<?, ?it/s]"
      ]
     },
     "metadata": {},
     "output_type": "display_data"
    },
    {
     "data": {
      "application/vnd.jupyter.widget-view+json": {
       "model_id": "c70d88999bc142b78141bb4ce273436c",
       "version_major": 2,
       "version_minor": 0
      },
      "text/plain": [
       "  0%|          | 0/234 [00:00<?, ?it/s]"
      ]
     },
     "metadata": {},
     "output_type": "display_data"
    },
    {
     "data": {
      "application/vnd.jupyter.widget-view+json": {
       "model_id": "8ae3ac453ab84b258dd8266931e329af",
       "version_major": 2,
       "version_minor": 0
      },
      "text/plain": [
       "  0%|          | 0/234 [00:00<?, ?it/s]"
      ]
     },
     "metadata": {},
     "output_type": "display_data"
    },
    {
     "data": {
      "application/vnd.jupyter.widget-view+json": {
       "model_id": "39575589ef4e41b6a7a12e02408ae8b7",
       "version_major": 2,
       "version_minor": 0
      },
      "text/plain": [
       "  0%|          | 0/234 [00:00<?, ?it/s]"
      ]
     },
     "metadata": {},
     "output_type": "display_data"
    },
    {
     "data": {
      "application/vnd.jupyter.widget-view+json": {
       "model_id": "b4cf8d08d183445babb441d7bcbb60ad",
       "version_major": 2,
       "version_minor": 0
      },
      "text/plain": [
       "  0%|          | 0/234 [00:00<?, ?it/s]"
      ]
     },
     "metadata": {},
     "output_type": "display_data"
    },
    {
     "data": {
      "application/vnd.jupyter.widget-view+json": {
       "model_id": "773f9bbbbe2b46a78a4adf80965856b0",
       "version_major": 2,
       "version_minor": 0
      },
      "text/plain": [
       "  0%|          | 0/234 [00:00<?, ?it/s]"
      ]
     },
     "metadata": {},
     "output_type": "display_data"
    },
    {
     "data": {
      "application/vnd.jupyter.widget-view+json": {
       "model_id": "b4c761b16d334b9b99108448f4de5001",
       "version_major": 2,
       "version_minor": 0
      },
      "text/plain": [
       "  0%|          | 0/234 [00:00<?, ?it/s]"
      ]
     },
     "metadata": {},
     "output_type": "display_data"
    },
    {
     "data": {
      "application/vnd.jupyter.widget-view+json": {
       "model_id": "2aa454dd8dad44b68ab168ba7cd30fd1",
       "version_major": 2,
       "version_minor": 0
      },
      "text/plain": [
       "  0%|          | 0/234 [00:00<?, ?it/s]"
      ]
     },
     "metadata": {},
     "output_type": "display_data"
    },
    {
     "data": {
      "application/vnd.jupyter.widget-view+json": {
       "model_id": "f62384df1ecb4034a7adbfda699a5e66",
       "version_major": 2,
       "version_minor": 0
      },
      "text/plain": [
       "  0%|          | 0/234 [00:00<?, ?it/s]"
      ]
     },
     "metadata": {},
     "output_type": "display_data"
    },
    {
     "data": {
      "application/vnd.jupyter.widget-view+json": {
       "model_id": "497e0af6a6b845398d0410fbfd67623f",
       "version_major": 2,
       "version_minor": 0
      },
      "text/plain": [
       "  0%|          | 0/234 [00:00<?, ?it/s]"
      ]
     },
     "metadata": {},
     "output_type": "display_data"
    },
    {
     "data": {
      "application/vnd.jupyter.widget-view+json": {
       "model_id": "a363d510c2034e969603421bb08560bc",
       "version_major": 2,
       "version_minor": 0
      },
      "text/plain": [
       "  0%|          | 0/234 [00:00<?, ?it/s]"
      ]
     },
     "metadata": {},
     "output_type": "display_data"
    },
    {
     "data": {
      "application/vnd.jupyter.widget-view+json": {
       "model_id": "3c1dfb7e989c4e1a839bfc5fa6c397d1",
       "version_major": 2,
       "version_minor": 0
      },
      "text/plain": [
       "  0%|          | 0/234 [00:00<?, ?it/s]"
      ]
     },
     "metadata": {},
     "output_type": "display_data"
    },
    {
     "data": {
      "application/vnd.jupyter.widget-view+json": {
       "model_id": "84a9a9e7c5c247b28989cc992e863727",
       "version_major": 2,
       "version_minor": 0
      },
      "text/plain": [
       "  0%|          | 0/234 [00:00<?, ?it/s]"
      ]
     },
     "metadata": {},
     "output_type": "display_data"
    },
    {
     "data": {
      "application/vnd.jupyter.widget-view+json": {
       "model_id": "2316417f3e8045c39583308050a24e7f",
       "version_major": 2,
       "version_minor": 0
      },
      "text/plain": [
       "  0%|          | 0/234 [00:00<?, ?it/s]"
      ]
     },
     "metadata": {},
     "output_type": "display_data"
    },
    {
     "data": {
      "application/vnd.jupyter.widget-view+json": {
       "model_id": "df8d363b2e7e4c20ad47d7022ea88978",
       "version_major": 2,
       "version_minor": 0
      },
      "text/plain": [
       "  0%|          | 0/234 [00:00<?, ?it/s]"
      ]
     },
     "metadata": {},
     "output_type": "display_data"
    },
    {
     "data": {
      "application/vnd.jupyter.widget-view+json": {
       "model_id": "a8f894d7de6d4053afc504663b2c2c15",
       "version_major": 2,
       "version_minor": 0
      },
      "text/plain": [
       "  0%|          | 0/234 [00:00<?, ?it/s]"
      ]
     },
     "metadata": {},
     "output_type": "display_data"
    },
    {
     "data": {
      "application/vnd.jupyter.widget-view+json": {
       "model_id": "ea3f557419984651baf43796263bad5e",
       "version_major": 2,
       "version_minor": 0
      },
      "text/plain": [
       "  0%|          | 0/234 [00:00<?, ?it/s]"
      ]
     },
     "metadata": {},
     "output_type": "display_data"
    },
    {
     "data": {
      "application/vnd.jupyter.widget-view+json": {
       "model_id": "ff5c1a1a76c64d0bb25e326508a21d6a",
       "version_major": 2,
       "version_minor": 0
      },
      "text/plain": [
       "  0%|          | 0/234 [00:00<?, ?it/s]"
      ]
     },
     "metadata": {},
     "output_type": "display_data"
    },
    {
     "data": {
      "application/vnd.jupyter.widget-view+json": {
       "model_id": "f4c7a48ee0eb412daa2e1eb8bca42007",
       "version_major": 2,
       "version_minor": 0
      },
      "text/plain": [
       "  0%|          | 0/234 [00:00<?, ?it/s]"
      ]
     },
     "metadata": {},
     "output_type": "display_data"
    },
    {
     "data": {
      "application/vnd.jupyter.widget-view+json": {
       "model_id": "4cc6a2bbbada45b2b19338e188714c55",
       "version_major": 2,
       "version_minor": 0
      },
      "text/plain": [
       "  0%|          | 0/234 [00:00<?, ?it/s]"
      ]
     },
     "metadata": {},
     "output_type": "display_data"
    },
    {
     "data": {
      "application/vnd.jupyter.widget-view+json": {
       "model_id": "0cc1e4bf3f3142b09bf986d03c3da8da",
       "version_major": 2,
       "version_minor": 0
      },
      "text/plain": [
       "  0%|          | 0/234 [00:00<?, ?it/s]"
      ]
     },
     "metadata": {},
     "output_type": "display_data"
    },
    {
     "data": {
      "application/vnd.jupyter.widget-view+json": {
       "model_id": "c574798dee1a4a55b67806e2a5af0cdb",
       "version_major": 2,
       "version_minor": 0
      },
      "text/plain": [
       "  0%|          | 0/234 [00:00<?, ?it/s]"
      ]
     },
     "metadata": {},
     "output_type": "display_data"
    },
    {
     "data": {
      "application/vnd.jupyter.widget-view+json": {
       "model_id": "9505faee2470414c975e68d38768af50",
       "version_major": 2,
       "version_minor": 0
      },
      "text/plain": [
       "  0%|          | 0/234 [00:00<?, ?it/s]"
      ]
     },
     "metadata": {},
     "output_type": "display_data"
    },
    {
     "data": {
      "application/vnd.jupyter.widget-view+json": {
       "model_id": "678ba9cc125247b2a84444381d4154ec",
       "version_major": 2,
       "version_minor": 0
      },
      "text/plain": [
       "  0%|          | 0/234 [00:00<?, ?it/s]"
      ]
     },
     "metadata": {},
     "output_type": "display_data"
    },
    {
     "data": {
      "application/vnd.jupyter.widget-view+json": {
       "model_id": "644b33e80ceb4656b36e42b496832599",
       "version_major": 2,
       "version_minor": 0
      },
      "text/plain": [
       "  0%|          | 0/234 [00:00<?, ?it/s]"
      ]
     },
     "metadata": {},
     "output_type": "display_data"
    },
    {
     "data": {
      "application/vnd.jupyter.widget-view+json": {
       "model_id": "712e6ffdac324caf80bb7a4256513a34",
       "version_major": 2,
       "version_minor": 0
      },
      "text/plain": [
       "  0%|          | 0/234 [00:00<?, ?it/s]"
      ]
     },
     "metadata": {},
     "output_type": "display_data"
    },
    {
     "data": {
      "application/vnd.jupyter.widget-view+json": {
       "model_id": "0a5695cedc1c4c188eac27c744b42660",
       "version_major": 2,
       "version_minor": 0
      },
      "text/plain": [
       "  0%|          | 0/234 [00:00<?, ?it/s]"
      ]
     },
     "metadata": {},
     "output_type": "display_data"
    },
    {
     "data": {
      "application/vnd.jupyter.widget-view+json": {
       "model_id": "198490130634470b822140d36fe32bd4",
       "version_major": 2,
       "version_minor": 0
      },
      "text/plain": [
       "  0%|          | 0/234 [00:00<?, ?it/s]"
      ]
     },
     "metadata": {},
     "output_type": "display_data"
    }
   ],
   "source": [
    "\n",
    "year_list, lat_list, lon_list, region = [],[],[], []\n",
    "list_bio_85 = []\n",
    "list_bio_26 = []\n",
    "\n",
    "lat = grid_lat\n",
    "lon = grid_lon\n",
    "\n",
    "for year in tqdm(range(0,44)):\n",
    "    for lat_i in tqdm(range(244,478)):\n",
    "        for lon_i in range(267,378):\n",
    "            regiones = filter(lat[lat_i], lon[lon_i])\n",
    "            \n",
    "            if regiones != None:\n",
    "                bio85 = []\n",
    "                bio26 = []\n",
    "                for bio_i in range(0,19):\n",
    "                    bio85.append(rcp_85[bio_i][year][lat_i][lon_i])\n",
    "                    bio26.append(rcp_26[bio_i][year][lat_i][lon_i])\n",
    "                region.append(regiones)\n",
    "                year_list.append(2007 + year)\n",
    "                lon_list.append(lon[lon_i])\n",
    "                lat_list.append(lat[lat_i])\n",
    "                \n",
    "                list_bio_85.append(bio85)\n",
    "                list_bio_26.append(bio26)                "
   ]
  },
  {
   "cell_type": "code",
   "execution_count": 74,
   "id": "a4098501-32da-43e1-8177-198ace713d24",
   "metadata": {},
   "outputs": [],
   "source": [
    "def add_df(df, arica, atacama, serena, santiago, maule, norte, sur):\n",
    "    df['year'] = year_list\n",
    "    df['lat'] = lat_list\n",
    "    df['lon'] = lon_list\n",
    "    df['region'] = region\n",
    "    #df['arica'] = arica\n",
    "    #df['atacama'] = atacama\n",
    "    #df['serena'] = serena\n",
    "    #df['santiago'] = santiago\n",
    "    #df['maule'] = arica\n",
    "    #df['norte'] = norte\n",
    "    #df['sur'] = sur\n",
    "    return df"
   ]
  },
  {
   "cell_type": "code",
   "execution_count": 75,
   "id": "35d68f48-c638-4172-a88a-b809c68b5fdd",
   "metadata": {},
   "outputs": [],
   "source": [
    "list_bio_26 = np.transpose(np.array(list_bio_26))\n",
    "list_bio_85 = np.transpose(np.array(list_bio_85))"
   ]
  },
  {
   "cell_type": "code",
   "execution_count": 76,
   "id": "928b3980-4c66-4d45-a56d-09d2808bc2bf",
   "metadata": {},
   "outputs": [],
   "source": [
    "df_85 = pd.DataFrame()\n",
    "df_26 = pd.DataFrame()\n",
    "\n",
    "for i in range(0, len(name_bio)):\n",
    "    df_85[name_bio[i]] = list_bio_85[i]\n",
    "    df_26[name_bio[i]] = list_bio_26[i]\n",
    "    \n",
    "df_85 = add_df(df_85, arica, atacama, serena, santiago, maule, norte, sur)\n",
    "df_26 = add_df(df_26, arica, atacama, serena, santiago, maule, norte, sur)\n",
    "\n"
   ]
  },
  {
   "cell_type": "code",
   "execution_count": 78,
   "id": "5c223d50-7f9a-4cc7-9f17-d0dcc9099362",
   "metadata": {},
   "outputs": [
    {
     "data": {
      "text/html": [
       "<div>\n",
       "<style scoped>\n",
       "    .dataframe tbody tr th:only-of-type {\n",
       "        vertical-align: middle;\n",
       "    }\n",
       "\n",
       "    .dataframe tbody tr th {\n",
       "        vertical-align: top;\n",
       "    }\n",
       "\n",
       "    .dataframe thead th {\n",
       "        text-align: right;\n",
       "    }\n",
       "</style>\n",
       "<table border=\"1\" class=\"dataframe\">\n",
       "  <thead>\n",
       "    <tr style=\"text-align: right;\">\n",
       "      <th></th>\n",
       "      <th>bio1</th>\n",
       "      <th>bio2</th>\n",
       "      <th>bio3</th>\n",
       "      <th>bio4</th>\n",
       "      <th>bio5</th>\n",
       "      <th>bio6</th>\n",
       "      <th>bio7</th>\n",
       "      <th>bio8</th>\n",
       "      <th>bio9</th>\n",
       "      <th>bio10</th>\n",
       "      <th>...</th>\n",
       "      <th>bio14</th>\n",
       "      <th>bio15</th>\n",
       "      <th>bio16</th>\n",
       "      <th>bio17</th>\n",
       "      <th>bio18</th>\n",
       "      <th>bio19</th>\n",
       "      <th>year</th>\n",
       "      <th>lat</th>\n",
       "      <th>lon</th>\n",
       "      <th>region</th>\n",
       "    </tr>\n",
       "  </thead>\n",
       "  <tbody>\n",
       "    <tr>\n",
       "      <th>0</th>\n",
       "      <td>8.604336</td>\n",
       "      <td>9.628532</td>\n",
       "      <td>39.735141</td>\n",
       "      <td>493.578857</td>\n",
       "      <td>22.608087</td>\n",
       "      <td>-1.623694</td>\n",
       "      <td>24.231781</td>\n",
       "      <td>6.552596</td>\n",
       "      <td>14.717778</td>\n",
       "      <td>14.717778</td>\n",
       "      <td>...</td>\n",
       "      <td>3.434222e-01</td>\n",
       "      <td>152.983796</td>\n",
       "      <td>2891.025593</td>\n",
       "      <td>22.232232</td>\n",
       "      <td>22.232232</td>\n",
       "      <td>1916.066643</td>\n",
       "      <td>2007</td>\n",
       "      <td>-36.500000</td>\n",
       "      <td>-71.349998</td>\n",
       "      <td>maule</td>\n",
       "    </tr>\n",
       "    <tr>\n",
       "      <th>1</th>\n",
       "      <td>7.559607</td>\n",
       "      <td>9.783966</td>\n",
       "      <td>40.143670</td>\n",
       "      <td>495.916737</td>\n",
       "      <td>21.752740</td>\n",
       "      <td>-2.619635</td>\n",
       "      <td>24.372375</td>\n",
       "      <td>5.538263</td>\n",
       "      <td>13.680607</td>\n",
       "      <td>13.680607</td>\n",
       "      <td>...</td>\n",
       "      <td>4.034327e-01</td>\n",
       "      <td>153.440298</td>\n",
       "      <td>2546.595534</td>\n",
       "      <td>17.550375</td>\n",
       "      <td>17.550375</td>\n",
       "      <td>1678.198732</td>\n",
       "      <td>2007</td>\n",
       "      <td>-36.500000</td>\n",
       "      <td>-71.260002</td>\n",
       "      <td>maule</td>\n",
       "    </tr>\n",
       "    <tr>\n",
       "      <th>2</th>\n",
       "      <td>5.988039</td>\n",
       "      <td>11.066032</td>\n",
       "      <td>40.407241</td>\n",
       "      <td>526.463538</td>\n",
       "      <td>22.736017</td>\n",
       "      <td>-4.650244</td>\n",
       "      <td>27.386261</td>\n",
       "      <td>3.804183</td>\n",
       "      <td>12.465397</td>\n",
       "      <td>12.527653</td>\n",
       "      <td>...</td>\n",
       "      <td>1.489245e-01</td>\n",
       "      <td>150.519281</td>\n",
       "      <td>1750.626613</td>\n",
       "      <td>7.960227</td>\n",
       "      <td>37.264816</td>\n",
       "      <td>1166.886281</td>\n",
       "      <td>2007</td>\n",
       "      <td>-36.500000</td>\n",
       "      <td>-70.989998</td>\n",
       "      <td>maule</td>\n",
       "    </tr>\n",
       "    <tr>\n",
       "      <th>3</th>\n",
       "      <td>5.638094</td>\n",
       "      <td>10.678490</td>\n",
       "      <td>39.351987</td>\n",
       "      <td>524.183449</td>\n",
       "      <td>22.303522</td>\n",
       "      <td>-4.832312</td>\n",
       "      <td>27.135834</td>\n",
       "      <td>3.504806</td>\n",
       "      <td>12.020970</td>\n",
       "      <td>12.152755</td>\n",
       "      <td>...</td>\n",
       "      <td>9.736732e-01</td>\n",
       "      <td>147.072115</td>\n",
       "      <td>1577.300192</td>\n",
       "      <td>8.181915</td>\n",
       "      <td>41.993332</td>\n",
       "      <td>1044.623568</td>\n",
       "      <td>2007</td>\n",
       "      <td>-36.500000</td>\n",
       "      <td>-70.900002</td>\n",
       "      <td>maule</td>\n",
       "    </tr>\n",
       "    <tr>\n",
       "      <th>4</th>\n",
       "      <td>12.945553</td>\n",
       "      <td>11.132871</td>\n",
       "      <td>41.568652</td>\n",
       "      <td>465.571690</td>\n",
       "      <td>29.855920</td>\n",
       "      <td>3.074030</td>\n",
       "      <td>26.781891</td>\n",
       "      <td>10.602502</td>\n",
       "      <td>19.140690</td>\n",
       "      <td>19.140690</td>\n",
       "      <td>...</td>\n",
       "      <td>4.756548e-01</td>\n",
       "      <td>152.565103</td>\n",
       "      <td>2132.893455</td>\n",
       "      <td>12.863005</td>\n",
       "      <td>12.863005</td>\n",
       "      <td>1472.451711</td>\n",
       "      <td>2007</td>\n",
       "      <td>-36.410000</td>\n",
       "      <td>-71.620003</td>\n",
       "      <td>maule</td>\n",
       "    </tr>\n",
       "    <tr>\n",
       "      <th>...</th>\n",
       "      <td>...</td>\n",
       "      <td>...</td>\n",
       "      <td>...</td>\n",
       "      <td>...</td>\n",
       "      <td>...</td>\n",
       "      <td>...</td>\n",
       "      <td>...</td>\n",
       "      <td>...</td>\n",
       "      <td>...</td>\n",
       "      <td>...</td>\n",
       "      <td>...</td>\n",
       "      <td>...</td>\n",
       "      <td>...</td>\n",
       "      <td>...</td>\n",
       "      <td>...</td>\n",
       "      <td>...</td>\n",
       "      <td>...</td>\n",
       "      <td>...</td>\n",
       "      <td>...</td>\n",
       "      <td>...</td>\n",
       "      <td>...</td>\n",
       "    </tr>\n",
       "    <tr>\n",
       "      <th>116639</th>\n",
       "      <td>2.928801</td>\n",
       "      <td>15.546125</td>\n",
       "      <td>73.432425</td>\n",
       "      <td>138.554056</td>\n",
       "      <td>15.754694</td>\n",
       "      <td>-5.415961</td>\n",
       "      <td>21.170654</td>\n",
       "      <td>4.367120</td>\n",
       "      <td>1.702956</td>\n",
       "      <td>4.647902</td>\n",
       "      <td>...</td>\n",
       "      <td>1.492980e-05</td>\n",
       "      <td>93.243077</td>\n",
       "      <td>93.829688</td>\n",
       "      <td>0.197416</td>\n",
       "      <td>72.941018</td>\n",
       "      <td>0.564515</td>\n",
       "      <td>2050</td>\n",
       "      <td>-17.690001</td>\n",
       "      <td>-69.639999</td>\n",
       "      <td>arica</td>\n",
       "    </tr>\n",
       "    <tr>\n",
       "      <th>116640</th>\n",
       "      <td>3.448434</td>\n",
       "      <td>16.572627</td>\n",
       "      <td>74.835472</td>\n",
       "      <td>149.320831</td>\n",
       "      <td>16.260126</td>\n",
       "      <td>-5.885291</td>\n",
       "      <td>22.145416</td>\n",
       "      <td>4.934005</td>\n",
       "      <td>1.982497</td>\n",
       "      <td>5.234094</td>\n",
       "      <td>...</td>\n",
       "      <td>2.246553e-05</td>\n",
       "      <td>104.829230</td>\n",
       "      <td>134.405776</td>\n",
       "      <td>1.048090</td>\n",
       "      <td>95.379960</td>\n",
       "      <td>1.054621</td>\n",
       "      <td>2050</td>\n",
       "      <td>-17.690001</td>\n",
       "      <td>-69.550003</td>\n",
       "      <td>arica</td>\n",
       "    </tr>\n",
       "    <tr>\n",
       "      <th>116641</th>\n",
       "      <td>4.215069</td>\n",
       "      <td>16.746190</td>\n",
       "      <td>75.973402</td>\n",
       "      <td>152.044734</td>\n",
       "      <td>16.836023</td>\n",
       "      <td>-5.206152</td>\n",
       "      <td>22.042175</td>\n",
       "      <td>5.690485</td>\n",
       "      <td>2.732904</td>\n",
       "      <td>5.977574</td>\n",
       "      <td>...</td>\n",
       "      <td>7.507235e-06</td>\n",
       "      <td>106.225205</td>\n",
       "      <td>137.954369</td>\n",
       "      <td>1.694386</td>\n",
       "      <td>98.787936</td>\n",
       "      <td>1.698204</td>\n",
       "      <td>2050</td>\n",
       "      <td>-17.690001</td>\n",
       "      <td>-69.459999</td>\n",
       "      <td>arica</td>\n",
       "    </tr>\n",
       "    <tr>\n",
       "      <th>116642</th>\n",
       "      <td>4.281628</td>\n",
       "      <td>17.478971</td>\n",
       "      <td>76.073551</td>\n",
       "      <td>149.412990</td>\n",
       "      <td>17.545435</td>\n",
       "      <td>-5.430975</td>\n",
       "      <td>22.976410</td>\n",
       "      <td>5.722884</td>\n",
       "      <td>2.786981</td>\n",
       "      <td>5.995976</td>\n",
       "      <td>...</td>\n",
       "      <td>3.817097e-06</td>\n",
       "      <td>97.980055</td>\n",
       "      <td>112.576668</td>\n",
       "      <td>0.987496</td>\n",
       "      <td>82.554848</td>\n",
       "      <td>0.991432</td>\n",
       "      <td>2050</td>\n",
       "      <td>-17.600000</td>\n",
       "      <td>-69.550003</td>\n",
       "      <td>arica</td>\n",
       "    </tr>\n",
       "    <tr>\n",
       "      <th>116643</th>\n",
       "      <td>4.971694</td>\n",
       "      <td>18.071523</td>\n",
       "      <td>77.492729</td>\n",
       "      <td>160.262515</td>\n",
       "      <td>18.355157</td>\n",
       "      <td>-4.965125</td>\n",
       "      <td>23.320282</td>\n",
       "      <td>6.587356</td>\n",
       "      <td>3.350916</td>\n",
       "      <td>6.839858</td>\n",
       "      <td>...</td>\n",
       "      <td>9.337043e-08</td>\n",
       "      <td>102.406909</td>\n",
       "      <td>112.028756</td>\n",
       "      <td>1.375742</td>\n",
       "      <td>74.001140</td>\n",
       "      <td>1.377465</td>\n",
       "      <td>2050</td>\n",
       "      <td>-17.600000</td>\n",
       "      <td>-69.459999</td>\n",
       "      <td>arica</td>\n",
       "    </tr>\n",
       "  </tbody>\n",
       "</table>\n",
       "<p>116644 rows × 23 columns</p>\n",
       "</div>"
      ],
      "text/plain": [
       "             bio1       bio2       bio3        bio4       bio5      bio6  \\\n",
       "0        8.604336   9.628532  39.735141  493.578857  22.608087 -1.623694   \n",
       "1        7.559607   9.783966  40.143670  495.916737  21.752740 -2.619635   \n",
       "2        5.988039  11.066032  40.407241  526.463538  22.736017 -4.650244   \n",
       "3        5.638094  10.678490  39.351987  524.183449  22.303522 -4.832312   \n",
       "4       12.945553  11.132871  41.568652  465.571690  29.855920  3.074030   \n",
       "...           ...        ...        ...         ...        ...       ...   \n",
       "116639   2.928801  15.546125  73.432425  138.554056  15.754694 -5.415961   \n",
       "116640   3.448434  16.572627  74.835472  149.320831  16.260126 -5.885291   \n",
       "116641   4.215069  16.746190  75.973402  152.044734  16.836023 -5.206152   \n",
       "116642   4.281628  17.478971  76.073551  149.412990  17.545435 -5.430975   \n",
       "116643   4.971694  18.071523  77.492729  160.262515  18.355157 -4.965125   \n",
       "\n",
       "             bio7       bio8       bio9      bio10  ...         bio14  \\\n",
       "0       24.231781   6.552596  14.717778  14.717778  ...  3.434222e-01   \n",
       "1       24.372375   5.538263  13.680607  13.680607  ...  4.034327e-01   \n",
       "2       27.386261   3.804183  12.465397  12.527653  ...  1.489245e-01   \n",
       "3       27.135834   3.504806  12.020970  12.152755  ...  9.736732e-01   \n",
       "4       26.781891  10.602502  19.140690  19.140690  ...  4.756548e-01   \n",
       "...           ...        ...        ...        ...  ...           ...   \n",
       "116639  21.170654   4.367120   1.702956   4.647902  ...  1.492980e-05   \n",
       "116640  22.145416   4.934005   1.982497   5.234094  ...  2.246553e-05   \n",
       "116641  22.042175   5.690485   2.732904   5.977574  ...  7.507235e-06   \n",
       "116642  22.976410   5.722884   2.786981   5.995976  ...  3.817097e-06   \n",
       "116643  23.320282   6.587356   3.350916   6.839858  ...  9.337043e-08   \n",
       "\n",
       "             bio15        bio16      bio17      bio18        bio19  year  \\\n",
       "0       152.983796  2891.025593  22.232232  22.232232  1916.066643  2007   \n",
       "1       153.440298  2546.595534  17.550375  17.550375  1678.198732  2007   \n",
       "2       150.519281  1750.626613   7.960227  37.264816  1166.886281  2007   \n",
       "3       147.072115  1577.300192   8.181915  41.993332  1044.623568  2007   \n",
       "4       152.565103  2132.893455  12.863005  12.863005  1472.451711  2007   \n",
       "...            ...          ...        ...        ...          ...   ...   \n",
       "116639   93.243077    93.829688   0.197416  72.941018     0.564515  2050   \n",
       "116640  104.829230   134.405776   1.048090  95.379960     1.054621  2050   \n",
       "116641  106.225205   137.954369   1.694386  98.787936     1.698204  2050   \n",
       "116642   97.980055   112.576668   0.987496  82.554848     0.991432  2050   \n",
       "116643  102.406909   112.028756   1.375742  74.001140     1.377465  2050   \n",
       "\n",
       "              lat        lon  region  \n",
       "0      -36.500000 -71.349998   maule  \n",
       "1      -36.500000 -71.260002   maule  \n",
       "2      -36.500000 -70.989998   maule  \n",
       "3      -36.500000 -70.900002   maule  \n",
       "4      -36.410000 -71.620003   maule  \n",
       "...           ...        ...     ...  \n",
       "116639 -17.690001 -69.639999  arica   \n",
       "116640 -17.690001 -69.550003  arica   \n",
       "116641 -17.690001 -69.459999  arica   \n",
       "116642 -17.600000 -69.550003  arica   \n",
       "116643 -17.600000 -69.459999  arica   \n",
       "\n",
       "[116644 rows x 23 columns]"
      ]
     },
     "execution_count": 78,
     "metadata": {},
     "output_type": "execute_result"
    }
   ],
   "source": [
    "df_85"
   ]
  },
  {
   "cell_type": "code",
   "execution_count": 79,
   "id": "c0c9e518-fb5e-47d4-bbd8-81b05b02b89e",
   "metadata": {},
   "outputs": [],
   "source": [
    "def arreglo_columnas(df):\n",
    "    df['atacama'] = (df['region']=='atacama')\n",
    "    df['arica'] = (df['region']=='arica')\n",
    "    df['serena'] = (df['region']=='serena')\n",
    "    df['santiago'] = (df['region']=='santiago')\n",
    "    df['maule'] = (df['region']=='maule')\n",
    "    df['norte'] = (df['region']=='arica') | (df['region']=='atacama')\n",
    "    df['sur'] = (df['region']=='serena') | (df['region']=='santiago') | (df['region']=='maule')\n",
    "    return df"
   ]
  },
  {
   "cell_type": "code",
   "execution_count": 80,
   "id": "4f5b7c54-80a1-4992-8d6a-2221c2af56b7",
   "metadata": {},
   "outputs": [],
   "source": [
    "df_85 = arreglo_columnas(df_85)\n",
    "df_26 = arreglo_columnas(df_26)"
   ]
  },
  {
   "cell_type": "code",
   "execution_count": 82,
   "id": "680383da-da05-4339-aded-bfe1bb4503ed",
   "metadata": {},
   "outputs": [
    {
     "name": "stdout",
     "output_type": "stream",
     "text": [
      "None\n"
     ]
    }
   ],
   "source": [
    "print(df_26)"
   ]
  },
  {
   "cell_type": "code",
   "execution_count": 66,
   "id": "9b4fde34-24d4-4df5-a821-cc4641270e14",
   "metadata": {},
   "outputs": [
    {
     "data": {
      "text/plain": [
       "-67.02999877929688"
      ]
     },
     "execution_count": 66,
     "metadata": {},
     "output_type": "execute_result"
    }
   ],
   "source": [
    "df_26.to_csv('data/X_26.csv', index=False)\n",
    "df_85.to_csv('data/X_85.csv', index=False)"
   ]
  },
  {
   "cell_type": "code",
   "execution_count": 67,
   "id": "39da7000-41e9-4604-beba-5a4fb0aa704f",
   "metadata": {},
   "outputs": [
    {
     "data": {
      "text/plain": [
       "-72.69999694824219"
      ]
     },
     "execution_count": 67,
     "metadata": {},
     "output_type": "execute_result"
    }
   ],
   "source": []
  },
  {
   "cell_type": "code",
   "execution_count": null,
   "id": "8796adfc-257c-475e-a7fb-8aafee82cc26",
   "metadata": {},
   "outputs": [],
   "source": []
  }
 ],
 "metadata": {
  "kernelspec": {
   "display_name": "Python 3",
   "language": "python",
   "name": "python3"
  },
  "language_info": {
   "codemirror_mode": {
    "name": "ipython",
    "version": 3
   },
   "file_extension": ".py",
   "mimetype": "text/x-python",
   "name": "python",
   "nbconvert_exporter": "python",
   "pygments_lexer": "ipython3",
   "version": "3.8.8"
  }
 },
 "nbformat": 4,
 "nbformat_minor": 5
}
